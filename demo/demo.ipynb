{
 "cells": [
  {
   "cell_type": "code",
   "execution_count": 1,
   "id": "53c2d00d",
   "metadata": {},
   "outputs": [
    {
     "name": "stdout",
     "output_type": "stream",
     "text": [
      "Loaded model from checkpoints/Binary_DNN_FULLENT_AUC.6993.1011_0915.pt\n"
     ]
    }
   ],
   "source": [
    "from utils.model_definitions import BinaryDNN_classical\n",
    "import torch\n",
    "device = \"cuda\" if torch.cuda.is_available() else \"cpu\"\n",
    "DNN = BinaryDNN_classical().to(device)\n",
    "# load_path = \"models/Binary_DNN_\" # Path to load model\n",
    "load_path = \"checkpoints/Binary_DNN_FULLENT_AUC.6993.1011_0915.pt\"\n",
    "# load_path = \"models/DNN_model_best_valLoss.pt\"\n",
    "\n",
    "# Load the checkpoint\n",
    "checkpoint = torch.load(load_path)\n",
    "\n",
    "# Restore model weights\n",
    "DNN.load_state_dict(checkpoint[\"DNN_state_dict\"])\n",
    "    \n",
    "print(f\"Loaded model from {load_path}\")"
   ]
  },
  {
   "cell_type": "code",
   "execution_count": null,
   "id": "61bce587",
   "metadata": {},
   "outputs": [
    {
     "ename": "NameError",
     "evalue": "name 'Preprocess' is not defined",
     "output_type": "error",
     "traceback": [
      "\u001b[31m---------------------------------------------------------------------------\u001b[39m",
      "\u001b[31mNameError\u001b[39m                                 Traceback (most recent call last)",
      "\u001b[36mCell\u001b[39m\u001b[36m \u001b[39m\u001b[32mIn[3]\u001b[39m\u001b[32m, line 17\u001b[39m\n\u001b[32m     14\u001b[39m batch_size = \u001b[32m64\u001b[39m\n\u001b[32m     15\u001b[39m lr = \u001b[32m1e-2\u001b[39m\n\u001b[32m---> \u001b[39m\u001b[32m17\u001b[39m X_train, y_train, X_test, y_test, X_val, y_val = \u001b[43mPreprocess\u001b[49m(df_train, df_test, df_val, balance = \u001b[33m'\u001b[39m\u001b[33msmote\u001b[39m\u001b[33m'\u001b[39m, classes = \u001b[33m'\u001b[39m\u001b[33mbinary\u001b[39m\u001b[33m'\u001b[39m)\n\u001b[32m     19\u001b[39m \u001b[38;5;28mprint\u001b[39m(y_test[:])\n\u001b[32m     20\u001b[39m \u001b[38;5;28mprint\u001b[39m(y_train[:])\n",
      "\u001b[31mNameError\u001b[39m: name 'Preprocess' is not defined"
     ]
    }
   ],
   "source": [
    "import pandas as pd\n",
    "from utils.Preprocessing import Preprocess\n",
    "TRAIN_FILE = '../Data/2025-Quantathon-Tornado-Q-training_data-640-examples.xlsx'\n",
    "TEST_FILE = '../Data/2025-Quantum-Tornado-Q-test_data-200-examples.xlsx'\n",
    "VALIDATION_FILE = '../Data/2025-Quantum-Tornado-validation_data-160-examples.xlsx'\n",
    "\n",
    "# Load training data\n",
    "df_train = pd.read_excel(TRAIN_FILE)\n",
    "# Load test data\n",
    "df_test = pd.read_excel(TEST_FILE)\n",
    "# Load validation data\n",
    "df_val = pd.read_excel(VALIDATION_FILE)\n",
    "\n",
    "# Define variable and dataset\n",
    "batch_size = 64\n",
    "lr = 1e-2\n",
    "\n",
    "X_train, y_train, X_test, y_test, X_val, y_val = Preprocess(df_train, df_test, df_val, balance = 'smote', classes = 'binary')\n",
    "\n",
    "print(y_test[:])\n",
    "print(y_train[:])\n",
    "print(y_val[:])\n",
    "\n",
    "train_data = ClassificationDataset(X_train, y_train)\n",
    "validation_data = ClassificationDataset(X_val, y_val)\n",
    "test_data = ClassificationDataset(X_test, y_test)\n",
    "\n",
    "train_loader = DataLoader(train_data, batch_size=64, shuffle=True, drop_last=True)\n",
    "val_loader = DataLoader(validation_data, batch_size=64, shuffle=False, drop_last=True)\n",
    "test_loader = DataLoader(test_data, batch_size=64, shuffle=False, drop_last=True)\n",
    "\n",
    "X_batch, y_batch = next(iter(train_loader))\n",
    "\n",
    "print(\"Batch X dtype:\", X_batch.dtype)\n",
    "print(\"Batch y dtype:\", y_batch.dtype)\n",
    "\n",
    "print(\"Number of training samples:\", len(train_data))\n",
    "print(\"Number of validation samples:\", len(validation_data))\n",
    "print(\"Number of test samples:\", len(test_data))"
   ]
  },
  {
   "cell_type": "code",
   "execution_count": null,
   "id": "81347861",
   "metadata": {},
   "outputs": [],
   "source": []
  }
 ],
 "metadata": {
  "kernelspec": {
   "display_name": ".venv",
   "language": "python",
   "name": "python3"
  },
  "language_info": {
   "codemirror_mode": {
    "name": "ipython",
    "version": 3
   },
   "file_extension": ".py",
   "mimetype": "text/x-python",
   "name": "python",
   "nbconvert_exporter": "python",
   "pygments_lexer": "ipython3",
   "version": "3.13.3"
  }
 },
 "nbformat": 4,
 "nbformat_minor": 5
}
