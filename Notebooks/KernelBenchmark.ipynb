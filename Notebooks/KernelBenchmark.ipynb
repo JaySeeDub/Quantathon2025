{
 "cells": [
  {
   "cell_type": "code",
   "execution_count": 2,
   "id": "4c44872a-b758-43a0-bb75-a78565d09cd1",
   "metadata": {},
   "outputs": [
    {
     "name": "stdout",
     "output_type": "stream",
     "text": [
      "0    2\n",
      "1    2\n",
      "2    2\n",
      "3    2\n",
      "4    3\n",
      "Name: ef_class, dtype: int64\n",
      "[0 0 0 1 0 0 0 0 0 0 1 0 0 0 0 1 1 1 1 1 0 0 1 0 1 1 0 0 0 0 0 0 0 0 0 0 0\n",
      " 0 1 0 0 0 1 0 0 0 0 0 0 1 1 0 1 0 0 0 1 0 1 0 0 1 0 0 0 0 1 0 0]\n"
     ]
    }
   ],
   "source": [
    "import matplotlib.pyplot as plt\n",
    "import pandas as pd\n",
    "import numpy as np\n",
    "from sklearn.svm import SVC\n",
    "from sklearn.metrics import (\n",
    "    accuracy_score,\n",
    "    roc_auc_score,\n",
    "    confusion_matrix,\n",
    "    roc_curve,\n",
    "    f1_score,\n",
    "    precision_score,\n",
    "    recall_score\n",
    ")\n",
    "\n",
    "\n",
    "kernel_matrix_train = np.load(\"kernel_matrix_train.npy\")\n",
    "kernel_matrix_test = np.load(\"kernel_matrix_test.npy\")\n",
    "\n",
    "# Data paths\n",
    "TRAIN_FILE = '../Data/kernel_estimation_train.csv'\n",
    "TEST_FILE = '../Data/kernel_estimation_test.csv'\n",
    "VAL_FILE = '../Data/kernel_estimation_val.csv'\n",
    "\n",
    "# Load training data\n",
    "df_train = pd.read_csv(TRAIN_FILE)\n",
    "# Load test data\n",
    "df_test = pd.read_csv(TEST_FILE)\n",
    "# Load validation data\n",
    "df_val = pd.read_csv(VAL_FILE)\n",
    "\n",
    "df_label_train = pd.read_csv(TRAIN_FILE)[\"ef_class\"]\n",
    "df_label_train = df_label_train[df_label_train.isin([2,3])]\n",
    "df_label_test = pd.read_csv(TEST_FILE)[\"ef_class\"]\n",
    "df_label_test = df_label_test[df_label_test.isin([2,3])]\n",
    "df_label_val = pd.read_csv(VAL_FILE)[\"ef_class\"]\n",
    "df_label_val = df_label_val[df_label_val.isin([2,3])]\n",
    "\n",
    "df_train = df_train[df_train.columns[:-2]]\n",
    "df_test = df_test[df_test.columns[:-2]]\n",
    "df_val = df_val[df_val.columns[:-2]]\n",
    "print(df_label_test.head())\n",
    "\n",
    "df_label_train = (df_label_train.to_numpy() == 3).astype(int)\n",
    "df_label_test = (df_label_test == 3).astype(int)\n",
    "df_label_val = (df_label_val == 3).astype(int)\n",
    "\n",
    "print(df_label_train)\n"
   ]
  },
  {
   "cell_type": "code",
   "execution_count": 5,
   "id": "5452aafd-275d-4681-b589-4831384892b2",
   "metadata": {},
   "outputs": [
    {
     "name": "stdout",
     "output_type": "stream",
     "text": [
      "Accuracy: 0.7619047619047619\n",
      "AUC: 0.6625\n",
      "Confusion Matrix:\n",
      " [[16  0]\n",
      " [ 5  0]]\n",
      "F1: 0.0\n",
      "Precision: 0.0\n",
      "Recall: 0.0\n"
     ]
    },
    {
     "name": "stderr",
     "output_type": "stream",
     "text": [
      "/home/amaciejunes/Desktop/snrl/.venv/lib/python3.13/site-packages/sklearn/metrics/_classification.py:1731: UndefinedMetricWarning: Precision is ill-defined and being set to 0.0 due to no predicted samples. Use `zero_division` parameter to control this behavior.\n",
      "  _warn_prf(average, modifier, f\"{metric.capitalize()} is\", result.shape[0])\n"
     ]
    }
   ],
   "source": [
    "#SVC Classifier\n",
    "svc = SVC(kernel='precomputed', probability=True)\n",
    "svc.fit(kernel_matrix_train, df_label_train)\n",
    "y_test = df_label_test\n",
    "# Predict and probabilities\n",
    "y_pred = svc.predict(kernel_matrix_test)\n",
    "y_prob = svc.predict_proba(kernel_matrix_test)[:, 1]\n",
    "\n",
    "# Metrics\n",
    "acc = accuracy_score(y_test, y_pred)\n",
    "auc = roc_auc_score(y_test, y_prob)\n",
    "cm = confusion_matrix(y_test, y_pred)\n",
    "f1 = f1_score(y_test, y_pred)\n",
    "precision = precision_score(y_test, y_pred)\n",
    "recall = recall_score(y_test, y_pred)\n",
    "\n",
    "# ROC curve data\n",
    "fpr, tpr, thresholds = roc_curve(y_test, y_prob)\n",
    "\n",
    "print(\"Accuracy:\", acc)\n",
    "print(\"AUC:\", auc)\n",
    "print(\"Confusion Matrix:\\n\", cm)\n",
    "print(\"F1:\", f1)\n",
    "print(\"Precision:\", precision)\n",
    "print(\"Recall:\", recall)"
   ]
  },
  {
   "cell_type": "code",
   "execution_count": 8,
   "id": "c857b14a-9058-4e14-b0bb-07081de2eef9",
   "metadata": {},
   "outputs": [
    {
     "name": "stdout",
     "output_type": "stream",
     "text": [
      "Class balance (train): [50 19]\n",
      "Symmetry (train): True\n",
      "Diag≈1 before norm: True\n",
      "TRAIN acc: 0.7246376811594203\n",
      "TEST acc: 0.7619047619047619\n",
      "AUC: 0.3375\n",
      "Confusion Matrix:\n",
      " [[16  0]\n",
      " [ 5  0]]\n",
      "F1: 0.0 Precision: 0.0 Recall: 0.0\n"
     ]
    },
    {
     "name": "stderr",
     "output_type": "stream",
     "text": [
      "/home/amaciejunes/Desktop/snrl/.venv/lib/python3.13/site-packages/sklearn/metrics/_classification.py:1731: UndefinedMetricWarning: Precision is ill-defined and being set to 0.0 due to no predicted samples. Use `zero_division` parameter to control this behavior.\n",
      "  _warn_prf(average, modifier, f\"{metric.capitalize()} is\", result.shape[0])\n"
     ]
    }
   ],
   "source": [
    "import numpy as np, pandas as pd\n",
    "from sklearn.svm import SVC\n",
    "from sklearn.metrics import (accuracy_score, roc_auc_score, confusion_matrix,\n",
    "                             f1_score, precision_score, recall_score, roc_curve)\n",
    "\n",
    "# --- Load kernels (built in CSV row order) ---\n",
    "K_train_full = np.load(\"kernel_matrix_train.npy\")   # (n_train_all, n_train_all)\n",
    "K_test_full  = np.load(\"kernel_matrix_test.npy\")    # (n_test_all,  n_train_all)\n",
    "\n",
    "# --- Load labels (keep your mapping: 2->0, 3->1) ---\n",
    "TRAIN_FILE = '../Data/kernel_estimation_train.csv'\n",
    "TEST_FILE  = '../Data/kernel_estimation_test.csv'\n",
    "VAL_FILE   = '../Data/kernel_estimation_val.csv'\n",
    "\n",
    "ef_train = pd.read_csv(TRAIN_FILE)[\"ef_class\"]\n",
    "ef_test  = pd.read_csv(TEST_FILE)[\"ef_class\"]\n",
    "ef_val   = pd.read_csv(VAL_FILE)[\"ef_class\"]\n",
    "\n",
    "mask_train = ef_train.isin([2,3]).values\n",
    "mask_test  = ef_test.isin([2,3]).values\n",
    "mask_val   = ef_val.isin([2,3]).values\n",
    "\n",
    "y_train = (ef_train[mask_train].to_numpy() == 3).astype(int)\n",
    "y_test  = (ef_test[mask_test].to_numpy()  == 3).astype(int)\n",
    "y_val   = (ef_val[mask_val].to_numpy()   == 3).astype(int)\n",
    "\n",
    "# --- Slice kernels with the SAME masks/order ---\n",
    "K_train = K_train_full[np.ix_(mask_train, mask_train)]\n",
    "K_test  = K_test_full[np.ix_(mask_test,  mask_train)]\n",
    "\n",
    "# --- Sanity checks ---\n",
    "assert K_train.shape[0] == K_train.shape[1] == y_train.shape[0]\n",
    "assert K_test.shape[1] == K_train.shape[0]\n",
    "assert K_test.shape[0] == y_test.shape[0]\n",
    "print(\"Class balance (train):\", np.bincount(y_train))\n",
    "print(\"Symmetry (train):\", np.allclose(K_train, K_train.T, atol=1e-8))\n",
    "print(\"Diag≈1 before norm:\", np.allclose(np.diag(K_train), 1.0, atol=1e-2))\n",
    "\n",
    "# --- Normalize the Gram matrix to stabilize scale ---\n",
    "d = np.sqrt(np.clip(np.diag(K_train), 1e-12, None))\n",
    "K_train = K_train / (d[:, None] * d[None, :])\n",
    "K_test  = K_test / d[None, :]  # column-normalize by train norms\n",
    "\n",
    "# --- Tiny jitter to improve conditioning (optional) ---\n",
    "K_train += 1e-10 * np.eye(K_train.shape[0])\n",
    "\n",
    "# --- Train SVC ---\n",
    "svc = SVC(kernel='precomputed', probability=True, class_weight='balanced', C=1.0, random_state=0)\n",
    "svc.fit(K_train, y_train)\n",
    "\n",
    "# --- Evaluate TRAIN too (to catch trivial collapse early) ---\n",
    "p_train = svc.predict_proba(K_train)[:,1]; yhat_train = (p_train >= 0.5).astype(int)\n",
    "print(\"TRAIN acc:\", accuracy_score(y_train, yhat_train))\n",
    "\n",
    "# --- Test ---\n",
    "p_test = svc.predict_proba(K_test)[:,1]; yhat_test = (p_test >= 0.5).astype(int)\n",
    "\n",
    "acc = accuracy_score(y_test, yhat_test)\n",
    "auc = roc_auc_score(y_test, p_test)\n",
    "cm  = confusion_matrix(y_test, yhat_test)\n",
    "f1  = f1_score(y_test, yhat_test)\n",
    "precision = precision_score(y_test, yhat_test)\n",
    "recall    = recall_score(y_test, yhat_test)\n",
    "fpr, tpr, thresholds = roc_curve(y_test, p_test)\n",
    "\n",
    "print(\"TEST acc:\", acc)\n",
    "print(\"AUC:\", auc)\n",
    "print(\"Confusion Matrix:\\n\", cm)\n",
    "print(\"F1:\", f1, \"Precision:\", precision, \"Recall:\", recall)\n"
   ]
  },
  {
   "cell_type": "code",
   "execution_count": null,
   "id": "22133516",
   "metadata": {},
   "outputs": [],
   "source": []
  }
 ],
 "metadata": {
  "kernelspec": {
   "display_name": ".venv",
   "language": "python",
   "name": "python3"
  },
  "language_info": {
   "codemirror_mode": {
    "name": "ipython",
    "version": 3
   },
   "file_extension": ".py",
   "mimetype": "text/x-python",
   "name": "python",
   "nbconvert_exporter": "python",
   "pygments_lexer": "ipython3",
   "version": "3.13.3"
  }
 },
 "nbformat": 4,
 "nbformat_minor": 5
}
