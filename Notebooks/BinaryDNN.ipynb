{
 "cells": [
  {
   "cell_type": "code",
   "execution_count": 1,
   "id": "f9f7111a-cbab-4d9e-8c86-aac5d577b440",
   "metadata": {},
   "outputs": [],
   "source": [
    "# All imports\n",
    "from Imports import *\n",
    "from Preprocessing import *\n",
    "from Helper import *\n",
    "%matplotlib inline\n",
    "warnings.filterwarnings('ignore')"
   ]
  },
  {
   "cell_type": "code",
   "execution_count": 2,
   "id": "f1953302-3ffa-4242-b1ab-34d30018bb5e",
   "metadata": {
    "scrolled": true
   },
   "outputs": [
    {
     "name": "stdout",
     "output_type": "stream",
     "text": [
      "✓ Training data loaded: 640 rows, 10 columns\n",
      "✓ Test data loaded: 200 rows, 10 columns\n"
     ]
    }
   ],
   "source": [
    "# Load dataset and device\n",
    "device = 'cuda' if torch.cuda.is_available() else 'cpu'\n",
    "# Dada paths\n",
    "TRAIN_FILE = '../2025-Quantathon-Tornado-Q-training_data-640-examples.xlsx'\n",
    "TEST_FILE = '../2025-Quantum-Tornado-Q-test_data-200-examples.xlsx'\n",
    "\n",
    "# Load training data\n",
    "df_train = pd.read_excel(TRAIN_FILE)\n",
    "# Load test data\n",
    "df_test = pd.read_excel(TEST_FILE)\n",
    "print(f\"✓ Training data loaded: {df_train.shape[0]} rows, {df_train.shape[1]} columns\")\n",
    "print(f\"✓ Test data loaded: {df_test.shape[0]} rows, {df_test.shape[1]} columns\")"
   ]
  },
  {
   "cell_type": "code",
   "execution_count": 3,
   "id": "ac8d5313-2431-49ae-b8d5-08dec4d06388",
   "metadata": {},
   "outputs": [],
   "source": [
    "# Binary DN without Quantum Layer\n",
    "class BinaryDNN(nn.Module):\n",
    "    def __init__(self):\n",
    "        super().__init__()\n",
    "\n",
    "        # Encodes features from dataset\n",
    "        self.feature_encoder = nn.Sequential(\n",
    "            nn.Linear(8, 64),\n",
    "            nn.LeakyReLU(0.2),\n",
    "            nn.Dropout(0.2),\n",
    "            nn.Linear(64, 128),\n",
    "            nn.LeakyReLU(0.2),\n",
    "            nn.Dropout(0.2),\n",
    "        )\n",
    "\n",
    "        # Classifies based on encoded features\n",
    "        self.classifier = nn.Sequential(\n",
    "            nn.Linear(128, 64),\n",
    "            nn.LeakyReLU(0.2),\n",
    "            nn.Dropout(0.2),\n",
    "            nn.Linear(64, 1),\n",
    "            nn.Sigmoid()\n",
    "        )\n",
    "\n",
    "    def forward(self, features):\n",
    "        feats_encoded = self.feature_encoder(features)\n",
    "        class_probs = self.classifier(feats_encoded)\n",
    "\n",
    "        return class_probs  # Shape: (batch_size, 1)"
   ]
  },
  {
   "cell_type": "code",
   "execution_count": 4,
   "id": "65215bff-2af0-4a33-82ff-c3891ab88f41",
   "metadata": {},
   "outputs": [
    {
     "name": "stdout",
     "output_type": "stream",
     "text": [
      "0      0\n",
      "1      0\n",
      "2      0\n",
      "3      0\n",
      "4      1\n",
      "      ..\n",
      "195    0\n",
      "196    0\n",
      "197    1\n",
      "198    0\n",
      "199    0\n",
      "Name: ef_binary, Length: 200, dtype: int64\n",
      "486     0\n",
      "876     1\n",
      "854     1\n",
      "86      0\n",
      "1035    1\n",
      "       ..\n",
      "653     1\n",
      "498     1\n",
      "1106    1\n",
      "180     0\n",
      "1095    1\n",
      "Name: ef_binary, Length: 913, dtype: int64\n",
      "Batch X dtype: torch.float32\n",
      "Batch y dtype: torch.float32\n",
      "Number of training samples: 913\n",
      "Number of validation samples: 229\n",
      "Number of test samples: 200\n"
     ]
    }
   ],
   "source": [
    "# Define variable and dataset\n",
    "batch_size = 128\n",
    "lr = 1e-2\n",
    "n_epochs = 300\n",
    "\n",
    "X_train, y_train, X_test, y_test = Preprocess(df_train, df_test, balance = 'smote', classes = 'binary')\n",
    "\n",
    "# Split training data into train + validation\n",
    "X_train, X_val, y_train, y_val = train_test_split(X_train, y_train, test_size=0.2, random_state=42, stratify=y_train)\n",
    "\n",
    "print(y_test[:])\n",
    "print(y_train[:])\n",
    "\n",
    "train_data = ClassificationDataset(X_train, y_train)\n",
    "validation_data = ClassificationDataset(X_val, y_val)\n",
    "test_data = ClassificationDataset(X_test, y_test)\n",
    "\n",
    "train_loader = DataLoader(train_data, batch_size=64, shuffle=True, drop_last=True)\n",
    "val_loader = DataLoader(validation_data, batch_size=64, shuffle=False, drop_last=True)\n",
    "test_loader = DataLoader(test_data, batch_size=64, shuffle=False, drop_last=True)\n",
    "\n",
    "X_batch, y_batch = next(iter(train_loader))\n",
    "\n",
    "print(\"Batch X dtype:\", X_batch.dtype)\n",
    "print(\"Batch y dtype:\", y_batch.dtype)\n",
    "\n",
    "print(\"Number of training samples:\", len(train_data))\n",
    "print(\"Number of validation samples:\", len(validation_data))\n",
    "print(\"Number of test samples:\", len(test_data))\n"
   ]
  },
  {
   "cell_type": "code",
   "execution_count": 5,
   "id": "aa02d9b6-0dfe-4b65-bfad-0435db685a6f",
   "metadata": {},
   "outputs": [],
   "source": [
    "# Initialize model, optimizer, and scheduler\n",
    "DNN = BinaryDNN().to(device)\n",
    "optimizer = optim.Adam(DNN.parameters(), lr=lr, betas=(0.9, 0.999))\n",
    "scheduler_G = CosineAnnealingLR(optimizer, T_max=n_epochs, eta_min=1e-4)\n",
    "\n",
    "# Empty array to track losses\n",
    "losses = []"
   ]
  },
  {
   "cell_type": "code",
   "execution_count": 6,
   "id": "34262fe9-d416-425b-b495-dc915056f691",
   "metadata": {},
   "outputs": [],
   "source": [
    "# # Plot visual of DNN\n",
    "# graph =  draw_graph(\n",
    "#     DNN,\n",
    "#     input_size=(1, 8),\n",
    "#     expand_nested=True,\n",
    "#     depth = 1,\n",
    "#     graph_name=\"DNN Architecture\",\n",
    "#     mode = 'train',\n",
    "#     show_shapes = True,\n",
    "#     hide_inner_tensors=True,   # Hides intermediate shapes\n",
    "#     roll=True,                  # More compact layer grouping\n",
    "#     save_graph=False,           # Set to True if you want to save\n",
    "#     # node_attr={\"color\": \"lightblue\", \"style\": \"filled\"},  # Node styling\n",
    "#     # edge_attr={\"color\": \"gray\"},                          # Edge styling\n",
    "#     graph_dir= \"TB\",                         # Layout: TB (top-bottom), LR (left-right)\n",
    "# )\n",
    "\n",
    "# # Show in notebook\n",
    "# graph.visual_graph"
   ]
  },
  {
   "cell_type": "code",
   "execution_count": 7,
   "id": "ef6e3709-1da8-4388-a1f9-32ef223ba3f2",
   "metadata": {},
   "outputs": [],
   "source": [
    "## Load a previous model\n",
    "load = False\n",
    "\n",
    "if load:\n",
    "    # load_path = \"models/Binary_DNN_\" # Path to load model\n",
    "    \n",
    "    # Load the checkpoint\n",
    "    checkpoint = torch.load(load_path)\n",
    "    \n",
    "    # Restore model weights\n",
    "    DNN.load_state_dict(checkpoint[\"DNN_state_dict\"])\n",
    "    \n",
    "    # Optionally restore tracking data\n",
    "    losses = checkpoint[\"losses\"]\n",
    "        \n",
    "    print(f\"Loaded model from {load_path}\")"
   ]
  },
  {
   "cell_type": "code",
   "execution_count": 8,
   "id": "04dcc0ac-3516-434c-a43a-ba172710b516",
   "metadata": {
    "scrolled": true
   },
   "outputs": [
    {
     "name": "stdout",
     "output_type": "stream",
     "text": [
      "Epoch [10/300] | Train Loss: 0.6245 | Train Acc: 0.6373 | Val Loss: 0.6268 | Val Acc: 0.6146\n",
      "Epoch [20/300] | Train Loss: 0.6087 | Train Acc: 0.6496 | Val Loss: 0.5919 | Val Acc: 0.6823\n",
      "Epoch [30/300] | Train Loss: 0.5816 | Train Acc: 0.6819 | Val Loss: 0.5821 | Val Acc: 0.6615\n",
      "Epoch [40/300] | Train Loss: 0.5697 | Train Acc: 0.6908 | Val Loss: 0.5835 | Val Acc: 0.6823\n",
      "Epoch [50/300] | Train Loss: 0.5571 | Train Acc: 0.7031 | Val Loss: 0.5647 | Val Acc: 0.6979\n",
      "Epoch [60/300] | Train Loss: 0.5562 | Train Acc: 0.6964 | Val Loss: 0.5693 | Val Acc: 0.7083\n",
      "Epoch [70/300] | Train Loss: 0.5371 | Train Acc: 0.7154 | Val Loss: 0.5624 | Val Acc: 0.7135\n",
      "Epoch [80/300] | Train Loss: 0.5062 | Train Acc: 0.7377 | Val Loss: 0.5343 | Val Acc: 0.6979\n",
      "Epoch [90/300] | Train Loss: 0.5058 | Train Acc: 0.7612 | Val Loss: 0.5158 | Val Acc: 0.7500\n",
      "Epoch [100/300] | Train Loss: 0.5230 | Train Acc: 0.7344 | Val Loss: 0.5210 | Val Acc: 0.7500\n",
      "Epoch [110/300] | Train Loss: 0.4868 | Train Acc: 0.7589 | Val Loss: 0.5038 | Val Acc: 0.7604\n",
      "Epoch [120/300] | Train Loss: 0.4525 | Train Acc: 0.7790 | Val Loss: 0.4715 | Val Acc: 0.7917\n",
      "Epoch [130/300] | Train Loss: 0.4857 | Train Acc: 0.7578 | Val Loss: 0.4833 | Val Acc: 0.7708\n",
      "Epoch [140/300] | Train Loss: 0.4517 | Train Acc: 0.7813 | Val Loss: 0.4438 | Val Acc: 0.7969\n",
      "Epoch [150/300] | Train Loss: 0.4332 | Train Acc: 0.7969 | Val Loss: 0.4435 | Val Acc: 0.8021\n",
      "Epoch [160/300] | Train Loss: 0.4426 | Train Acc: 0.7902 | Val Loss: 0.4044 | Val Acc: 0.8229\n",
      "Epoch [170/300] | Train Loss: 0.4317 | Train Acc: 0.8025 | Val Loss: 0.4018 | Val Acc: 0.8594\n",
      "Epoch [180/300] | Train Loss: 0.4064 | Train Acc: 0.7935 | Val Loss: 0.3872 | Val Acc: 0.8490\n",
      "Epoch [190/300] | Train Loss: 0.4123 | Train Acc: 0.8036 | Val Loss: 0.3656 | Val Acc: 0.8646\n",
      "Epoch [200/300] | Train Loss: 0.4307 | Train Acc: 0.7946 | Val Loss: 0.4402 | Val Acc: 0.8021\n",
      "Epoch [210/300] | Train Loss: 0.4268 | Train Acc: 0.7891 | Val Loss: 0.3805 | Val Acc: 0.8438\n",
      "Epoch [220/300] | Train Loss: 0.3944 | Train Acc: 0.8170 | Val Loss: 0.3604 | Val Acc: 0.8594\n",
      "Epoch [230/300] | Train Loss: 0.4211 | Train Acc: 0.7991 | Val Loss: 0.4367 | Val Acc: 0.7969\n",
      "Epoch [240/300] | Train Loss: 0.3998 | Train Acc: 0.8103 | Val Loss: 0.4388 | Val Acc: 0.8594\n",
      "Epoch [250/300] | Train Loss: 0.4010 | Train Acc: 0.8013 | Val Loss: 0.3968 | Val Acc: 0.8438\n",
      "Epoch [260/300] | Train Loss: 0.3714 | Train Acc: 0.8259 | Val Loss: 0.3747 | Val Acc: 0.8542\n",
      "Epoch [270/300] | Train Loss: 0.3729 | Train Acc: 0.8270 | Val Loss: 0.3639 | Val Acc: 0.8646\n",
      "Epoch [280/300] | Train Loss: 0.3184 | Train Acc: 0.8638 | Val Loss: 0.3632 | Val Acc: 0.8698\n",
      "Epoch [290/300] | Train Loss: 0.3551 | Train Acc: 0.8493 | Val Loss: 0.3568 | Val Acc: 0.8646\n",
      "Epoch [300/300] | Train Loss: 0.3502 | Train Acc: 0.8404 | Val Loss: 0.3740 | Val Acc: 0.8750\n"
     ]
    }
   ],
   "source": [
    "bce = nn.BCELoss()\n",
    "metric = accuracy\n",
    "best_val_metric = 0\n",
    "best_val_loss = 999\n",
    "\n",
    "# Initialize a dictionary to store epoch-wise results\n",
    "history = {\n",
    "        'epoch': [],\n",
    "        'train_loss': [],\n",
    "        'train_metric': [],\n",
    "        'val_loss': [],\n",
    "        'val_metric': []\n",
    "    }\n",
    "\n",
    "\n",
    "for epoch in range(n_epochs):\n",
    "    DNN.train()\n",
    "    train_loss, train_metric = 0.0, 0.0\n",
    "\n",
    "    for features, target in train_loader:\n",
    "        features, target = features.to(device), target.unsqueeze(-1).to(device)\n",
    "        \n",
    "        optimizer.zero_grad()\n",
    "        outputs = DNN(features)\n",
    "        loss = bce(outputs, target)\n",
    "        loss.backward()\n",
    "        optimizer.step()\n",
    "\n",
    "        train_loss += loss.item()\n",
    "        train_metric += metric(outputs, target)\n",
    "\n",
    "    train_loss /= len(train_loader)\n",
    "    train_metric /= len(train_loader)\n",
    "\n",
    "    # Validation\n",
    "    DNN.eval()\n",
    "    val_loss, val_metric = 0.0, 0.0\n",
    "    with torch.no_grad():\n",
    "        for X_val, y_val in val_loader:\n",
    "            X_val, y_val = X_val.to(device), y_val.unsqueeze(-1).to(device)\n",
    "            outputs = DNN(X_val)\n",
    "            val_loss += bce(outputs, y_val).item()\n",
    "            val_metric += metric(outputs, y_val)\n",
    "\n",
    "    val_loss /= len(val_loader)\n",
    "    val_metric /= len(val_loader)\n",
    "\n",
    "    # Logging\n",
    "    history['epoch'].append(epoch)\n",
    "    history['train_loss'].append(train_loss)\n",
    "    history['train_metric'].append(train_metric)\n",
    "    history['val_loss'].append(val_loss)\n",
    "    history['val_metric'].append(val_metric)\n",
    "\n",
    "    if epoch % 10 == 9:\n",
    "        print(f'Epoch [{epoch+1}/{n_epochs}] | Train Loss: {train_loss:.4f} | '\n",
    "        f'Train Acc: {train_metric:.4f} | Val Loss: {val_loss:.4f} | Val Acc: {val_metric:.4f}')\n",
    "\n",
    "    # Save best model\n",
    "    if val_metric > best_val_metric:\n",
    "        best_val_metric = val_metric\n",
    "        os.makedirs(\"models\", exist_ok=True)\n",
    "        save_path = \"models/DNN_model_best_accuracy.pt\"\n",
    "        torch.save({\n",
    "            \"DNN_state_dict\": DNN.state_dict(),\n",
    "            \"history\": history,\n",
    "        }, save_path)\n",
    "    if val_loss < best_val_loss:\n",
    "        best_val_metric = val_metric\n",
    "        os.makedirs(\"models\", exist_ok=True)\n",
    "        save_path = \"models/DNN_model_best_valLoss.pt\"\n",
    "        torch.save({\n",
    "            \"DNN_state_dict\": DNN.state_dict(),\n",
    "            \"history\": history,\n",
    "        }, save_path)\n",
    "\n"
   ]
  },
  {
   "cell_type": "code",
   "execution_count": 9,
   "id": "4018cf28-4805-4b87-a170-bca5562e0264",
   "metadata": {},
   "outputs": [
    {
     "name": "stdout",
     "output_type": "stream",
     "text": [
      "Model and statistics saved to models/Binary_DNN_1010_2135.pt\n"
     ]
    }
   ],
   "source": [
    "## Save Model\n",
    "# Create output directory if it doesn't exist\n",
    "\n",
    "save = True\n",
    "if save:\n",
    "    os.makedirs(\"models\", exist_ok=True)\n",
    "    \n",
    "    # Timestamp for unique filenames\n",
    "    timestamp = datetime.now().strftime(\"%m%d_%H%M\")\n",
    "    \n",
    "    # Save model states and tracked data in a single file\n",
    "    save_path = f\"models/Binary_DNN_{timestamp}.pt\"\n",
    "    torch.save({\n",
    "        \"DNN_state_dict\": DNN.state_dict(),\n",
    "        \"losses\": losses,\n",
    "    }, save_path)\n",
    "    \n",
    "    print(f\"Model and statistics saved to {save_path}\")"
   ]
  },
  {
   "cell_type": "code",
   "execution_count": 10,
   "id": "068d501d-d045-4b37-94fc-6e6c45e485cc",
   "metadata": {},
   "outputs": [
    {
     "name": "stdout",
     "output_type": "stream",
     "text": [
      "(192,) (192,) (192,)\n",
      "[0 1]\n",
      "AUC: 0.5799, F1: 0.1356, Accuracy: 0.7344, CSI: 0.0727\n"
     ]
    },
    {
     "data": {
      "image/png": "[encoded data removed]",
      "text/plain": [
       "<Figure size 500x400 with 2 Axes>"
      ]
     },
     "metadata": {},
     "output_type": "display_data"
    },
    {
     "data": {
      "image/png": "[encoded data removed]",
      "text/plain": [
       "<Figure size 600x500 with 1 Axes>"
      ]
     },
     "metadata": {},
     "output_type": "display_data"
    },
    {
     "data": {
      "image/png": "[encoded data removed]",
      "text/plain": [
       "<Figure size 600x400 with 1 Axes>"
      ]
     },
     "metadata": {},
     "output_type": "display_data"
    }
   ],
   "source": [
    "# --- Set model to evaluation mode ---\n",
    "DNN.eval()\n",
    "\n",
    "all_targets = []\n",
    "all_preds = []\n",
    "all_outputs = []\n",
    "\n",
    "with torch.no_grad():\n",
    "    for features, target in test_loader:\n",
    "        features = features.to(device)\n",
    "        target = target.to(device).float().unsqueeze(-1)\n",
    "\n",
    "        outputs = DNN(features)\n",
    "        preds = (outputs > 0.5).float()\n",
    "\n",
    "        all_targets.append(target.cpu())\n",
    "        all_preds.append(preds.cpu())\n",
    "        all_outputs.append(outputs.cpu())\n",
    "\n",
    "# --- Concatenate all batches ---\n",
    "all_targets = torch.cat(all_targets).squeeze().long().numpy()  # integers 0/1\n",
    "all_preds = torch.cat(all_preds).squeeze().long().numpy()\n",
    "all_outputs = torch.cat(all_outputs).squeeze().numpy()             # floats in [0,1]\n",
    "\n",
    "# --- Sanity check ---\n",
    "print(all_targets.shape, all_preds.shape, all_outputs.shape)\n",
    "print(np.unique(all_targets))  # should be [0,1]\n",
    "\n",
    "# --- Compute Metrics ---\n",
    "cm = confusion_matrix(all_targets, all_preds)\n",
    "auc = roc_auc_score(all_targets, all_outputs)  # should work now\n",
    "f1 = f1_score(all_targets, all_preds)\n",
    "acc = accuracy_score(all_targets, all_preds)\n",
    "\n",
    "# Critical Success Index (CSI)\n",
    "tp = cm[1,1]\n",
    "fn = cm[1,0]\n",
    "fp = cm[0,1]\n",
    "csi = tp / (tp + fn + fp)\n",
    "\n",
    "print(f\"AUC: {auc:.4f}, F1: {f1:.4f}, Accuracy: {acc:.4f}, CSI: {csi:.4f}\")\n",
    "\n",
    "# --- Plot Confusion Matrix ---\n",
    "plt.figure(figsize=(5,4))\n",
    "sns.heatmap(cm, annot=True, fmt='d', cmap='Blues')\n",
    "plt.xlabel('Predicted')\n",
    "plt.ylabel('Actual')\n",
    "plt.title('Confusion Matrix')\n",
    "plt.show()\n",
    "\n",
    "# --- Plot ROC Curve ---\n",
    "fpr, tpr, thresholds = roc_curve(all_targets, all_outputs)\n",
    "plt.figure(figsize=(6,5))\n",
    "plt.plot(fpr, tpr, label=f'AUC = {auc:.4f}', color='blue')\n",
    "plt.plot([0,1], [0,1], linestyle='--', color='gray')\n",
    "plt.xlabel('False Positive Rate')\n",
    "plt.ylabel('True Positive Rate')\n",
    "plt.title('ROC Curve')\n",
    "plt.legend()\n",
    "plt.show()\n",
    "\n",
    "# --- Plot Metrics Bar Chart ---\n",
    "metrics = {'Accuracy': acc, 'F1 Score': f1, 'CSI': csi}\n",
    "plt.figure(figsize=(6,4))\n",
    "plt.bar(metrics.keys(), metrics.values(), color=['skyblue', 'orange', 'green'])\n",
    "plt.ylim(0,1)\n",
    "plt.title('Classification Metrics')\n",
    "plt.show()\n"
   ]
  },
  {
   "cell_type": "code",
   "execution_count": null,
   "id": "3e344f31-7569-4195-850d-058d93502a0d",
   "metadata": {},
   "outputs": [],
   "source": []
  }
 ],
 "metadata": {
  "kernelspec": {
   "display_name": "Quantathon",
   "language": "python",
   "name": "qgan-env"
  },
  "language_info": {
   "codemirror_mode": {
    "name": "ipython",
    "version": 3
   },
   "file_extension": ".py",
   "mimetype": "text/x-python",
   "name": "python",
   "nbconvert_exporter": "python",
   "pygments_lexer": "ipython3",
   "version": "3.10.18"
  }
 },
 "nbformat": 4,
 "nbformat_minor": 5
}
