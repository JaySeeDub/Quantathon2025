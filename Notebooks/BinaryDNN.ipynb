{
 "cells": [
  {
   "cell_type": "code",
   "execution_count": 1,
   "id": "f9f7111a-cbab-4d9e-8c86-aac5d577b440",
   "metadata": {},
   "outputs": [],
   "source": [
    "# All imports\n",
    "from Imports import *\n",
    "from Preprocessing import *\n",
    "from Helper import *\n",
    "%matplotlib inline\n",
    "warnings.filterwarnings('ignore')"
   ]
  },
  {
   "cell_type": "code",
   "execution_count": 2,
   "id": "f1953302-3ffa-4242-b1ab-34d30018bb5e",
   "metadata": {
    "scrolled": true
   },
   "outputs": [
    {
     "name": "stdout",
     "output_type": "stream",
     "text": [
      "✓ Training data loaded: 640 rows, 10 columns\n",
      "✓ Test data loaded: 200 rows, 10 columns\n"
     ]
    }
   ],
   "source": [
    "# Load dataset and device\n",
    "device = 'cuda' if torch.cuda.is_available() else 'cpu'\n",
    "# Dada paths\n",
    "TRAIN_FILE = '../2025-Quantathon-Tornado-Q-training_data-640-examples.xlsx'\n",
    "TEST_FILE = '../2025-Quantum-Tornado-Q-test_data-200-examples.xlsx'\n",
    "\n",
    "# Load training data\n",
    "df_train = pd.read_excel(TRAIN_FILE)\n",
    "# Load test data\n",
    "df_test = pd.read_excel(TEST_FILE)\n",
    "print(f\"✓ Training data loaded: {df_train.shape[0]} rows, {df_train.shape[1]} columns\")\n",
    "print(f\"✓ Test data loaded: {df_test.shape[0]} rows, {df_test.shape[1]} columns\")"
   ]
  },
  {
   "cell_type": "code",
   "execution_count": 3,
   "id": "ac8d5313-2431-49ae-b8d5-08dec4d06388",
   "metadata": {},
   "outputs": [],
   "source": [
    "# Binary DN without Quantum Layer\n",
    "class BinaryDNN(nn.Module):\n",
    "    def __init__(self):\n",
    "        super().__init__()\n",
    "\n",
    "        # Encodes features from dataset\n",
    "        self.feature_encoder = nn.Sequential(\n",
    "            nn.Linear(8, 64),\n",
    "            nn.LeakyReLU(0.2),\n",
    "            nn.Dropout(0.2),\n",
    "            nn.Linear(64, 128),\n",
    "            nn.LeakyReLU(0.2),\n",
    "            nn.Dropout(0.2),\n",
    "        )\n",
    "\n",
    "        # Classifies based on encoded features\n",
    "        self.classifier = nn.Sequential(\n",
    "            nn.Linear(128, 64),\n",
    "            nn.LeakyReLU(0.2),\n",
    "            nn.Dropout(0.2),\n",
    "            nn.Linear(64, 1),\n",
    "            nn.Sigmoid()\n",
    "        )\n",
    "\n",
    "    def forward(self, features):\n",
    "        feats_encoded = self.feature_encoder(features)\n",
    "        class_probs = self.classifier(feats_encoded)\n",
    "\n",
    "        return class_probs  # Shape: (batch_size, 1)"
   ]
  },
  {
   "cell_type": "code",
   "execution_count": 4,
   "id": "65215bff-2af0-4a33-82ff-c3891ab88f41",
   "metadata": {},
   "outputs": [
    {
     "name": "stdout",
     "output_type": "stream",
     "text": [
      "Batch X dtype: torch.float32\n",
      "Batch y dtype: torch.float32\n",
      "Number of training samples: 913\n",
      "Number of validation samples: 229\n",
      "Number of test samples: 200\n"
     ]
    }
   ],
   "source": [
    "# Define variable and dataset\n",
    "batch_size = 128\n",
    "lr = 1e-2\n",
    "n_epochs = 300\n",
    "\n",
    "X_train, y_train, X_test, y_test = Preprocess(df_train, df_test, balance = 'smote', classes = 'binary')\n",
    "\n",
    "# Split training data into train + validation\n",
    "X_train, X_val, y_train, y_val = train_test_split(X_train, y_train, test_size=0.2, random_state=42, stratify=y_train)\n",
    "\n",
    "train_data = ClassificationDataset(X_train, y_train)\n",
    "validation_data = ClassificationDataset(X_val, y_val)\n",
    "test_data = ClassificationDataset(X_test, y_test)\n",
    "\n",
    "train_loader = DataLoader(train_data, batch_size=64, shuffle=True, drop_last=True)\n",
    "val_loader = DataLoader(validation_data, batch_size=64, shuffle=False, drop_last=True)\n",
    "test_loader = DataLoader(test_data, batch_size=64, shuffle=False, drop_last=True)\n",
    "\n",
    "X_batch, y_batch = next(iter(train_loader))\n",
    "\n",
    "print(\"Batch X dtype:\", X_batch.dtype)\n",
    "print(\"Batch y dtype:\", y_batch.dtype)\n",
    "\n",
    "print(\"Number of training samples:\", len(train_data))\n",
    "print(\"Number of validation samples:\", len(validation_data))\n",
    "print(\"Number of test samples:\", len(test_data))\n"
   ]
  },
  {
   "cell_type": "code",
   "execution_count": 5,
   "id": "aa02d9b6-0dfe-4b65-bfad-0435db685a6f",
   "metadata": {},
   "outputs": [],
   "source": [
    "# Initialize model, optimizer, and scheduler\n",
    "DNN = BinaryDNN().to(device)\n",
    "optimizer = optim.Adam(DNN.parameters(), lr=lr, betas=(0.9, 0.999))\n",
    "scheduler_G = CosineAnnealingLR(optimizer, T_max=n_epochs, eta_min=1e-4)\n",
    "\n",
    "# Empty array to track losses\n",
    "losses = []"
   ]
  },
  {
   "cell_type": "code",
   "execution_count": 6,
   "id": "34262fe9-d416-425b-b495-dc915056f691",
   "metadata": {},
   "outputs": [],
   "source": [
    "# # Plot visual of DNN\n",
    "# graph =  draw_graph(\n",
    "#     DNN,\n",
    "#     input_size=(1, 8),\n",
    "#     expand_nested=True,\n",
    "#     depth = 1,\n",
    "#     graph_name=\"DNN Architecture\",\n",
    "#     mode = 'train',\n",
    "#     show_shapes = True,\n",
    "#     hide_inner_tensors=True,   # Hides intermediate shapes\n",
    "#     roll=True,                  # More compact layer grouping\n",
    "#     save_graph=False,           # Set to True if you want to save\n",
    "#     # node_attr={\"color\": \"lightblue\", \"style\": \"filled\"},  # Node styling\n",
    "#     # edge_attr={\"color\": \"gray\"},                          # Edge styling\n",
    "#     graph_dir= \"TB\",                         # Layout: TB (top-bottom), LR (left-right)\n",
    "# )\n",
    "\n",
    "# # Show in notebook\n",
    "# graph.visual_graph"
   ]
  },
  {
   "cell_type": "code",
   "execution_count": 7,
   "id": "ef6e3709-1da8-4388-a1f9-32ef223ba3f2",
   "metadata": {},
   "outputs": [],
   "source": [
    "## Load a previous model\n",
    "load = False\n",
    "\n",
    "if load:\n",
    "    # load_path = \"models/Binary_DNN_\" # Path to load model\n",
    "    \n",
    "    # Load the checkpoint\n",
    "    checkpoint = torch.load(load_path)\n",
    "    \n",
    "    # Restore model weights\n",
    "    DNN.load_state_dict(checkpoint[\"DNN_state_dict\"])\n",
    "    \n",
    "    # Optionally restore tracking data\n",
    "    losses = checkpoint[\"losses\"]\n",
    "        \n",
    "    print(f\"Loaded model from {load_path}\")"
   ]
  },
  {
   "cell_type": "code",
   "execution_count": 9,
   "id": "04dcc0ac-3516-434c-a43a-ba172710b516",
   "metadata": {
    "scrolled": true
   },
   "outputs": [
    {
     "ename": "NameError",
     "evalue": "name 'history' is not defined",
     "output_type": "error",
     "traceback": [
      "\u001b[0;31m---------------------------------------------------------------------------\u001b[0m",
      "\u001b[0;31mNameError\u001b[0m                                 Traceback (most recent call last)",
      "Cell \u001b[0;32mIn[9], line 38\u001b[0m\n\u001b[1;32m     35\u001b[0m val_metric \u001b[38;5;241m/\u001b[39m\u001b[38;5;241m=\u001b[39m \u001b[38;5;28mlen\u001b[39m(val_loader)\n\u001b[1;32m     37\u001b[0m \u001b[38;5;66;03m# Logging\u001b[39;00m\n\u001b[0;32m---> 38\u001b[0m \u001b[43mhistory\u001b[49m[\u001b[38;5;124m'\u001b[39m\u001b[38;5;124mepoch\u001b[39m\u001b[38;5;124m'\u001b[39m]\u001b[38;5;241m.\u001b[39mappend(epoch)\n\u001b[1;32m     39\u001b[0m history[\u001b[38;5;124m'\u001b[39m\u001b[38;5;124mtrain_loss\u001b[39m\u001b[38;5;124m'\u001b[39m]\u001b[38;5;241m.\u001b[39mappend(train_loss)\n\u001b[1;32m     40\u001b[0m history[\u001b[38;5;124m'\u001b[39m\u001b[38;5;124mtrain_metric\u001b[39m\u001b[38;5;124m'\u001b[39m]\u001b[38;5;241m.\u001b[39mappend(train_metric)\n",
      "\u001b[0;31mNameError\u001b[0m: name 'history' is not defined"
     ]
    }
   ],
   "source": [
    "bce = nn.BCELoss()\n",
    "metric = accuracy\n",
    "best_val_metric = 0.0\n",
    "\n",
    "# Initialize a dictionary to store epoch-wise results\n",
    "history = {\n",
    "        'epoch': [],\n",
    "        'train_loss': [],\n",
    "        'train_metric': [],\n",
    "        'val_loss': [],\n",
    "        'val_metric': []\n",
    "    }\n",
    "\n",
    "best_val_metric = 999\n",
    "\n",
    "metric = accuracy\n",
    "\n",
    "for epoch in range(n_epochs):\n",
    "    DNN.train()\n",
    "    train_loss, train_metric = 0.0, 0.0\n",
    "\n",
    "    for features, target in train_loader:\n",
    "        features, target = features.to(device), target.unsqueeze(-1).to(device)\n",
    "        \n",
    "        optimizer.zero_grad()\n",
    "        outputs = DNN(features)\n",
    "        loss = bce(outputs, target)\n",
    "        loss.backward()\n",
    "        optimizer.step()\n",
    "\n",
    "        train_loss += loss.item()\n",
    "        train_metric += metric(outputs, target)\n",
    "\n",
    "    train_loss /= len(train_loader)\n",
    "    train_metric /= len(train_loader)\n",
    "\n",
    "    # Validation\n",
    "    DNN.eval()\n",
    "    val_loss, val_metric = 0.0, 0.0\n",
    "    with torch.no_grad():\n",
    "        for X_val, y_val in val_loader:\n",
    "            X_val, y_val = X_val.to(device), y_val.unsqueeze(-1).to(device)\n",
    "            outputs = DNN(X_val)\n",
    "            val_loss += bce(outputs, y_val).item()\n",
    "            val_metric += metric(outputs, y_val)\n",
    "\n",
    "    val_loss /= len(val_loader)\n",
    "    val_metric /= len(val_loader)\n",
    "\n",
    "    # Logging\n",
    "    history['epoch'].append(epoch)\n",
    "    history['train_loss'].append(train_loss)\n",
    "    history['train_metric'].append(train_metric)\n",
    "    history['val_loss'].append(val_loss)\n",
    "    history['val_metric'].append(val_metric)\n",
    "\n",
    "    print(f'Epoch [{epoch+1}/{n_epochs}] | Train Loss: {train_loss:.4f} | '\n",
    "          f'Train Acc: {train_metric:.4f} | Val Loss: {val_loss:.4f} | Val Acc: {val_metric:.4f}')\n",
    "\n",
    "    # Save best model\n",
    "    if val_metric > best_val_metric:\n",
    "        best_val_metric = val_metric\n",
    "        os.makedirs(\"models\", exist_ok=True)\n",
    "        save_path = \"models/DNN_model_best.pt\"\n",
    "        torch.save({\n",
    "            \"DNN_state_dict\": DNN.state_dict(),\n",
    "            \"history\": history,\n",
    "        }, save_path)\n",
    "        print(f\"Model and history saved to {save_path}\")\n"
   ]
  },
  {
   "cell_type": "code",
   "execution_count": null,
   "id": "4018cf28-4805-4b87-a170-bca5562e0264",
   "metadata": {},
   "outputs": [],
   "source": [
    "## Save Model\n",
    "# Create output directory if it doesn't exist\n",
    "\n",
    "save = True\n",
    "if save:\n",
    "    os.makedirs(\"models\", exist_ok=True)\n",
    "    \n",
    "    # Timestamp for unique filenames\n",
    "    timestamp = datetime.now().strftime(\"%m%d_%H%M\")\n",
    "    \n",
    "    # Save model states and tracked data in a single file\n",
    "    save_path = f\"models/Binary_DNN_{timestamp}.pt\"\n",
    "    torch.save({\n",
    "        \"DNN_state_dict\": DNN.state_dict(),\n",
    "        \"losses\": losses,\n",
    "    }, save_path)\n",
    "    \n",
    "    print(f\"Model and statistics saved to {save_path}\")"
   ]
  },
  {
   "cell_type": "code",
   "execution_count": null,
   "id": "068d501d-d045-4b37-94fc-6e6c45e485cc",
   "metadata": {},
   "outputs": [],
   "source": []
  }
 ],
 "metadata": {
  "kernelspec": {
   "display_name": "Quantathon",
   "language": "python",
   "name": "qgan-env"
  },
  "language_info": {
   "codemirror_mode": {
    "name": "ipython",
    "version": 3
   },
   "file_extension": ".py",
   "mimetype": "text/x-python",
   "name": "python",
   "nbconvert_exporter": "python",
   "pygments_lexer": "ipython3",
   "version": "3.10.18"
  }
 },
 "nbformat": 4,
 "nbformat_minor": 5
}
