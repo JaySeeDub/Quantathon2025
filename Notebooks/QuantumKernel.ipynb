{
 "cells": [
  {
   "cell_type": "code",
   "execution_count": 1,
   "id": "9ebe0b0f",
   "metadata": {},
   "outputs": [],
   "source": [
    "from qiskit_machine_learning.kernels import FidelityQuantumKernel\n",
    "from qiskit.circuit.library import zz_feature_map\n",
    "from qiskit_aer.primitives import SamplerV2\n",
    "from qiskit_machine_learning.algorithms import QSVC\n",
    "from qiskit_machine_learning.state_fidelities import ComputeUncompute\n",
    "import pandas as pd\n",
    "import numpy as np"
   ]
  },
  {
   "cell_type": "code",
   "execution_count": 2,
   "id": "0d75f428",
   "metadata": {},
   "outputs": [],
   "source": [
    "from qiskit_aer.primitives import SamplerV2 as Sampler\n",
    "\n",
    "backend_options = {        \n",
    "    'device': \"GPU\",\n",
    "    }\n",
    "\n",
    "options = {\n",
    "    'backend_options': backend_options\n",
    "    }\n",
    "\n",
    "sampler = Sampler(options = options)"
   ]
  },
  {
   "cell_type": "code",
   "execution_count": 4,
   "id": "115a8e77",
   "metadata": {},
   "outputs": [
    {
     "ename": "ImportError",
     "evalue": "Missing optional dependency 'openpyxl'.  Use pip or conda to install openpyxl.",
     "output_type": "error",
     "traceback": [
      "\u001b[31m---------------------------------------------------------------------------\u001b[39m",
      "\u001b[31mModuleNotFoundError\u001b[39m                       Traceback (most recent call last)",
      "\u001b[36mFile \u001b[39m\u001b[32m~/Desktop/snrl/.venv/lib/python3.13/site-packages/pandas/compat/_optional.py:135\u001b[39m, in \u001b[36mimport_optional_dependency\u001b[39m\u001b[34m(name, extra, errors, min_version)\u001b[39m\n\u001b[32m    134\u001b[39m \u001b[38;5;28;01mtry\u001b[39;00m:\n\u001b[32m--> \u001b[39m\u001b[32m135\u001b[39m     module = \u001b[43mimportlib\u001b[49m\u001b[43m.\u001b[49m\u001b[43mimport_module\u001b[49m\u001b[43m(\u001b[49m\u001b[43mname\u001b[49m\u001b[43m)\u001b[49m\n\u001b[32m    136\u001b[39m \u001b[38;5;28;01mexcept\u001b[39;00m \u001b[38;5;167;01mImportError\u001b[39;00m:\n",
      "\u001b[36mFile \u001b[39m\u001b[32m/usr/lib/python3.13/importlib/__init__.py:88\u001b[39m, in \u001b[36mimport_module\u001b[39m\u001b[34m(name, package)\u001b[39m\n\u001b[32m     87\u001b[39m         level += \u001b[32m1\u001b[39m\n\u001b[32m---> \u001b[39m\u001b[32m88\u001b[39m \u001b[38;5;28;01mreturn\u001b[39;00m \u001b[43m_bootstrap\u001b[49m\u001b[43m.\u001b[49m\u001b[43m_gcd_import\u001b[49m\u001b[43m(\u001b[49m\u001b[43mname\u001b[49m\u001b[43m[\u001b[49m\u001b[43mlevel\u001b[49m\u001b[43m:\u001b[49m\u001b[43m]\u001b[49m\u001b[43m,\u001b[49m\u001b[43m \u001b[49m\u001b[43mpackage\u001b[49m\u001b[43m,\u001b[49m\u001b[43m \u001b[49m\u001b[43mlevel\u001b[49m\u001b[43m)\u001b[49m\n",
      "\u001b[36mFile \u001b[39m\u001b[32m<frozen importlib._bootstrap>:1387\u001b[39m, in \u001b[36m_gcd_import\u001b[39m\u001b[34m(name, package, level)\u001b[39m\n",
      "\u001b[36mFile \u001b[39m\u001b[32m<frozen importlib._bootstrap>:1360\u001b[39m, in \u001b[36m_find_and_load\u001b[39m\u001b[34m(name, import_)\u001b[39m\n",
      "\u001b[36mFile \u001b[39m\u001b[32m<frozen importlib._bootstrap>:1324\u001b[39m, in \u001b[36m_find_and_load_unlocked\u001b[39m\u001b[34m(name, import_)\u001b[39m\n",
      "\u001b[31mModuleNotFoundError\u001b[39m: No module named 'openpyxl'",
      "\nDuring handling of the above exception, another exception occurred:\n",
      "\u001b[31mImportError\u001b[39m                               Traceback (most recent call last)",
      "\u001b[36mCell\u001b[39m\u001b[36m \u001b[39m\u001b[32mIn[4]\u001b[39m\u001b[32m, line 15\u001b[39m\n\u001b[32m     12\u001b[39m \u001b[38;5;66;03m# Load test data\u001b[39;00m\n\u001b[32m     13\u001b[39m df_test = pd.read_csv(TEST_FILE)\n\u001b[32m---> \u001b[39m\u001b[32m15\u001b[39m df_label_train_binary = \u001b[43mpd\u001b[49m\u001b[43m.\u001b[49m\u001b[43mread_excel\u001b[49m\u001b[43m(\u001b[49m\u001b[43mLABEL_TRAIN_FILE\u001b[49m\u001b[43m)\u001b[49m[\u001b[33m\"\u001b[39m\u001b[33mef_binary\u001b[39m\u001b[33m\"\u001b[39m]\n\u001b[32m     16\u001b[39m df_label_train_class = pd.read_excel(LABEL_TRAIN_FILE)[\u001b[33m\"\u001b[39m\u001b[33mef_class\u001b[39m\u001b[33m\"\u001b[39m]\n\u001b[32m     18\u001b[39m df_test_train_binary = pd.read_excel(LABEL_TEST_FILE)[\u001b[33m\"\u001b[39m\u001b[33mef_binary\u001b[39m\u001b[33m\"\u001b[39m]\n",
      "\u001b[36mFile \u001b[39m\u001b[32m~/Desktop/snrl/.venv/lib/python3.13/site-packages/pandas/io/excel/_base.py:495\u001b[39m, in \u001b[36mread_excel\u001b[39m\u001b[34m(io, sheet_name, header, names, index_col, usecols, dtype, engine, converters, true_values, false_values, skiprows, nrows, na_values, keep_default_na, na_filter, verbose, parse_dates, date_parser, date_format, thousands, decimal, comment, skipfooter, storage_options, dtype_backend, engine_kwargs)\u001b[39m\n\u001b[32m    493\u001b[39m \u001b[38;5;28;01mif\u001b[39;00m \u001b[38;5;129;01mnot\u001b[39;00m \u001b[38;5;28misinstance\u001b[39m(io, ExcelFile):\n\u001b[32m    494\u001b[39m     should_close = \u001b[38;5;28;01mTrue\u001b[39;00m\n\u001b[32m--> \u001b[39m\u001b[32m495\u001b[39m     io = \u001b[43mExcelFile\u001b[49m\u001b[43m(\u001b[49m\n\u001b[32m    496\u001b[39m \u001b[43m        \u001b[49m\u001b[43mio\u001b[49m\u001b[43m,\u001b[49m\n\u001b[32m    497\u001b[39m \u001b[43m        \u001b[49m\u001b[43mstorage_options\u001b[49m\u001b[43m=\u001b[49m\u001b[43mstorage_options\u001b[49m\u001b[43m,\u001b[49m\n\u001b[32m    498\u001b[39m \u001b[43m        \u001b[49m\u001b[43mengine\u001b[49m\u001b[43m=\u001b[49m\u001b[43mengine\u001b[49m\u001b[43m,\u001b[49m\n\u001b[32m    499\u001b[39m \u001b[43m        \u001b[49m\u001b[43mengine_kwargs\u001b[49m\u001b[43m=\u001b[49m\u001b[43mengine_kwargs\u001b[49m\u001b[43m,\u001b[49m\n\u001b[32m    500\u001b[39m \u001b[43m    \u001b[49m\u001b[43m)\u001b[49m\n\u001b[32m    501\u001b[39m \u001b[38;5;28;01melif\u001b[39;00m engine \u001b[38;5;129;01mand\u001b[39;00m engine != io.engine:\n\u001b[32m    502\u001b[39m     \u001b[38;5;28;01mraise\u001b[39;00m \u001b[38;5;167;01mValueError\u001b[39;00m(\n\u001b[32m    503\u001b[39m         \u001b[33m\"\u001b[39m\u001b[33mEngine should not be specified when passing \u001b[39m\u001b[33m\"\u001b[39m\n\u001b[32m    504\u001b[39m         \u001b[33m\"\u001b[39m\u001b[33man ExcelFile - ExcelFile already has the engine set\u001b[39m\u001b[33m\"\u001b[39m\n\u001b[32m    505\u001b[39m     )\n",
      "\u001b[36mFile \u001b[39m\u001b[32m~/Desktop/snrl/.venv/lib/python3.13/site-packages/pandas/io/excel/_base.py:1567\u001b[39m, in \u001b[36mExcelFile.__init__\u001b[39m\u001b[34m(self, path_or_buffer, engine, storage_options, engine_kwargs)\u001b[39m\n\u001b[32m   1564\u001b[39m \u001b[38;5;28mself\u001b[39m.engine = engine\n\u001b[32m   1565\u001b[39m \u001b[38;5;28mself\u001b[39m.storage_options = storage_options\n\u001b[32m-> \u001b[39m\u001b[32m1567\u001b[39m \u001b[38;5;28mself\u001b[39m._reader = \u001b[38;5;28;43mself\u001b[39;49m\u001b[43m.\u001b[49m\u001b[43m_engines\u001b[49m\u001b[43m[\u001b[49m\u001b[43mengine\u001b[49m\u001b[43m]\u001b[49m\u001b[43m(\u001b[49m\n\u001b[32m   1568\u001b[39m \u001b[43m    \u001b[49m\u001b[38;5;28;43mself\u001b[39;49m\u001b[43m.\u001b[49m\u001b[43m_io\u001b[49m\u001b[43m,\u001b[49m\n\u001b[32m   1569\u001b[39m \u001b[43m    \u001b[49m\u001b[43mstorage_options\u001b[49m\u001b[43m=\u001b[49m\u001b[43mstorage_options\u001b[49m\u001b[43m,\u001b[49m\n\u001b[32m   1570\u001b[39m \u001b[43m    \u001b[49m\u001b[43mengine_kwargs\u001b[49m\u001b[43m=\u001b[49m\u001b[43mengine_kwargs\u001b[49m\u001b[43m,\u001b[49m\n\u001b[32m   1571\u001b[39m \u001b[43m\u001b[49m\u001b[43m)\u001b[49m\n",
      "\u001b[36mFile \u001b[39m\u001b[32m~/Desktop/snrl/.venv/lib/python3.13/site-packages/pandas/io/excel/_openpyxl.py:552\u001b[39m, in \u001b[36mOpenpyxlReader.__init__\u001b[39m\u001b[34m(self, filepath_or_buffer, storage_options, engine_kwargs)\u001b[39m\n\u001b[32m    534\u001b[39m \u001b[38;5;129m@doc\u001b[39m(storage_options=_shared_docs[\u001b[33m\"\u001b[39m\u001b[33mstorage_options\u001b[39m\u001b[33m\"\u001b[39m])\n\u001b[32m    535\u001b[39m \u001b[38;5;28;01mdef\u001b[39;00m\u001b[38;5;250m \u001b[39m\u001b[34m__init__\u001b[39m(\n\u001b[32m    536\u001b[39m     \u001b[38;5;28mself\u001b[39m,\n\u001b[32m   (...)\u001b[39m\u001b[32m    539\u001b[39m     engine_kwargs: \u001b[38;5;28mdict\u001b[39m | \u001b[38;5;28;01mNone\u001b[39;00m = \u001b[38;5;28;01mNone\u001b[39;00m,\n\u001b[32m    540\u001b[39m ) -> \u001b[38;5;28;01mNone\u001b[39;00m:\n\u001b[32m    541\u001b[39m \u001b[38;5;250m    \u001b[39m\u001b[33;03m\"\"\"\u001b[39;00m\n\u001b[32m    542\u001b[39m \u001b[33;03m    Reader using openpyxl engine.\u001b[39;00m\n\u001b[32m    543\u001b[39m \n\u001b[32m   (...)\u001b[39m\u001b[32m    550\u001b[39m \u001b[33;03m        Arbitrary keyword arguments passed to excel engine.\u001b[39;00m\n\u001b[32m    551\u001b[39m \u001b[33;03m    \"\"\"\u001b[39;00m\n\u001b[32m--> \u001b[39m\u001b[32m552\u001b[39m     \u001b[43mimport_optional_dependency\u001b[49m\u001b[43m(\u001b[49m\u001b[33;43m\"\u001b[39;49m\u001b[33;43mopenpyxl\u001b[39;49m\u001b[33;43m\"\u001b[39;49m\u001b[43m)\u001b[49m\n\u001b[32m    553\u001b[39m     \u001b[38;5;28msuper\u001b[39m().\u001b[34m__init__\u001b[39m(\n\u001b[32m    554\u001b[39m         filepath_or_buffer,\n\u001b[32m    555\u001b[39m         storage_options=storage_options,\n\u001b[32m    556\u001b[39m         engine_kwargs=engine_kwargs,\n\u001b[32m    557\u001b[39m     )\n",
      "\u001b[36mFile \u001b[39m\u001b[32m~/Desktop/snrl/.venv/lib/python3.13/site-packages/pandas/compat/_optional.py:138\u001b[39m, in \u001b[36mimport_optional_dependency\u001b[39m\u001b[34m(name, extra, errors, min_version)\u001b[39m\n\u001b[32m    136\u001b[39m \u001b[38;5;28;01mexcept\u001b[39;00m \u001b[38;5;167;01mImportError\u001b[39;00m:\n\u001b[32m    137\u001b[39m     \u001b[38;5;28;01mif\u001b[39;00m errors == \u001b[33m\"\u001b[39m\u001b[33mraise\u001b[39m\u001b[33m\"\u001b[39m:\n\u001b[32m--> \u001b[39m\u001b[32m138\u001b[39m         \u001b[38;5;28;01mraise\u001b[39;00m \u001b[38;5;167;01mImportError\u001b[39;00m(msg)\n\u001b[32m    139\u001b[39m     \u001b[38;5;28;01mreturn\u001b[39;00m \u001b[38;5;28;01mNone\u001b[39;00m\n\u001b[32m    141\u001b[39m \u001b[38;5;66;03m# Handle submodules: if we have submodule, grab parent module from sys.modules\u001b[39;00m\n",
      "\u001b[31mImportError\u001b[39m: Missing optional dependency 'openpyxl'.  Use pip or conda to install openpyxl."
     ]
    }
   ],
   "source": [
    "feature_dimension=8\n",
    "reps=2\n",
    "\n",
    "# Data paths\n",
    "TRAIN_FILE = '../Data/X_train_scaled.csv'\n",
    "TEST_FILE = '../Data/X_test_scaled.csv'\n",
    "LABEL_TRAIN_FILE = '../2025-Quantathon-Tornado-Q-training_data-640-examples.xlsx'\n",
    "LABEL_TEST_FILE = '../2025-Quantum-Tornado-Q-test_data-200-examples.xlsx'\n",
    "\n",
    "# Load training data\n",
    "df_train = pd.read_csv(TRAIN_FILE)\n",
    "# Load test data\n",
    "df_test = pd.read_csv(TEST_FILE)\n",
    "\n",
    "df_label_train_binary = pd.read_excel(LABEL_TRAIN_FILE)[\"ef_binary\"]\n",
    "df_label_train_class = pd.read_excel(LABEL_TRAIN_FILE)[\"ef_class\"]\n",
    "\n",
    "df_test_train_binary = pd.read_excel(LABEL_TEST_FILE)[\"ef_binary\"]\n",
    "df_test_train_class = pd.read_excel(LABEL_TEST_FILE)[\"ef_class\"]\n",
    "\n",
    "print(f\"✓ Training data loaded: {df_train.shape[0]} rows, {df_train.shape[1]} columns\")\n",
    "print(f\"✓ Test data loaded: {df_test.shape[0]} rows, {df_test.shape[1]} columns\")\n"
   ]
  },
  {
   "cell_type": "code",
   "execution_count": null,
   "id": "3a6a26e1",
   "metadata": {},
   "outputs": [],
   "source": [
    "# ------------------------------------------------------------\n",
    "# Public entry point: build a circuit that (1) encodes features\n",
    "# and (2) applies a configurable entangling block.\n",
    "# ------------------------------------------------------------\n",
    "def build_circuit(\n",
    "    data: Iterable[float],\n",
    "    *,\n",
    "    # ---- Encoding controls ----\n",
    "    normalize: bool = True,\n",
    "    angle_scale: float = np.pi,                  # multiply angles by this (e.g., π)\n",
    "    encoding_axes: Sequence[str] = (\"rx\", \"ry\"), # which rotations to use per feature\n",
    "                                                 # e.g., (\"ry\",) or (\"ry\",\"rz\") etc.\n",
    "    # ---- Entangler controls ----\n",
    "    entanglement: Literal[\"full\", \"ring\", \"linear\"] = \"full\",\n",
    "    gate:        Literal[\"cx\", \"cz\"] = \"cx\",\n",
    "    num_layers:  int = 2,\n",
    "    alternate_directions: bool = True,\n",
    "    add_barriers: bool = True,\n",
    ") -> QuantumCircuit:\n",
    "    \"\"\"\n",
    "    Builds a feature-generating circuit for your shadows pipeline:\n",
    "      data -> [angle encoding] -> [entangling layers]\n",
    "\n",
    "    Parameters\n",
    "    ----------\n",
    "    data : Iterable[float]\n",
    "        Your feature vector (one qubit per feature).\n",
    "    normalize : bool\n",
    "        Whether to apply tanh normalization (maps to [-1,1]) before angle scaling.\n",
    "        Recommended for robustness.\n",
    "    angle_scale : float\n",
    "        Scalar to multiply features when used as rotation angles (default π).\n",
    "    encoding_axes : Sequence[str]\n",
    "        Rotations to apply per feature, in order. Options: \"rx\", \"ry\", \"rz\".\n",
    "        Example: (\"ry\",) or (\"ry\",\"rz\") or (\"rx\",\"ry\",\"rz\").\n",
    "    entanglement : {\"full\",\"ring\",\"linear\"}\n",
    "        Connectivity of the entangling block.\n",
    "    gate : {\"cx\",\"cz\"}\n",
    "        Two-qubit gate family. Use \"cz\" if your backend favors symmetric CZ.\n",
    "    num_layers : int\n",
    "        Number of repeated entangling layers.\n",
    "    alternate_directions : bool\n",
    "        If using CX, flip control/target each layer to reduce directional bias.\n",
    "    add_barriers : bool\n",
    "        Add visual/compile barriers between layers (useful during debugging).\n",
    "\n",
    "    Returns\n",
    "    -------\n",
    "    QuantumCircuit\n",
    "        Circuit with encoding + entanglement applied.\n",
    "    \"\"\"\n",
    "    data = np.asarray(list(data), dtype=float)\n",
    "    n = int(data.size)\n",
    "    assert n >= 2, \"Need at least 2 qubits (features) to add entanglement.\"\n",
    "\n",
    "    # ---------- 1) Normalize & scale angles ----------\n",
    "    # Good default for continuous geophysical features (robust to outliers).\n",
    "    if normalize:\n",
    "        data = np.tanh(data)               # maps to [-1,1]\n",
    "    thetas = angle_scale * data            # rescale to angles\n",
    "\n",
    "    # ---------- 2) Encoding ----------\n",
    "    qc = QuantumCircuit(n, name=\"encode+entangle\")\n",
    "    _apply_angle_encoding(qc, thetas, encoding_axes)\n",
    "\n",
    "    # ---------- 3) Entangling block ----------\n",
    "    _add_entangling_layer(\n",
    "        qc,\n",
    "        num_layers=num_layers,\n",
    "        entanglement=entanglement,\n",
    "        gate=gate,\n",
    "        alternate_directions=alternate_directions,\n",
    "        add_barriers=add_barriers,\n",
    "    )\n",
    "    return qc\n"
   ]
  },
  {
   "cell_type": "code",
   "execution_count": null,
   "id": "deea2241",
   "metadata": {},
   "outputs": [],
   "source": [
    "#Renormalize Data\n",
    "\n",
    "df_train = np.tanh(df_train)\n",
    "df_test = np.tanh(df_test)"
   ]
  },
  {
   "cell_type": "code",
   "execution_count": null,
   "id": "32849717",
   "metadata": {},
   "outputs": [],
   "source": [
    "#Data Encoding (zz)\n",
    "feature_map = zz_feature_map(feature_dimension=feature_dimension, reps=reps, entanglement=\"linear\")\n",
    "\n",
    "#Why this kind of data encoding?"
   ]
  },
  {
   "cell_type": "code",
   "execution_count": null,
   "id": "927dbf67",
   "metadata": {},
   "outputs": [],
   "source": [
    "#Create Quantum Kernel\n",
    "quantum_kernel = FidelityQuantumKernel(feature_map=feature_map, fidelity=ComputeUncompute(sampler))"
   ]
  },
  {
   "cell_type": "code",
   "execution_count": null,
   "id": "414b3505",
   "metadata": {},
   "outputs": [],
   "source": [
    "#Train the QSVC\n",
    "\n",
    "qsvc = QSVC(quantum_kernel=quantum_kernel)\n",
    "qsvc.fit(df_train, df_label_train_binary)\n",
    "\n",
    "kernel_matrix_train = quantum_kernel.evaluate(df_train)  # shape: (n_samples, n_samples)\n",
    "kernel_matrix_test = quantum_kernel.evaluate(df_test, df_train)  # shape: (n_test, n_train)"
   ]
  },
  {
   "cell_type": "code",
   "execution_count": null,
   "id": "667effc4",
   "metadata": {},
   "outputs": [],
   "source": [
    "#Analyze Results\n",
    "import matplotlib.pyplot as plt\n",
    "\n",
    "plt.imshow(kernel_matrix_train, cmap='Blues', interpolation='nearest')\n",
    "plt.colorbar()\n",
    "plt.title(\"Kernel Matrix\")\n",
    "plt.show()\n",
    "\n",
    "plt.imshow(kernel_matrix_test, cmap='Blues', interpolation='nearest')\n",
    "plt.colorbar()\n",
    "plt.title(\"Test Matrix\")\n",
    "plt.show()\n",
    "\n",
    "score = qsvc.score(test_features, test_labels)\n",
    "print(score)"
   ]
  },
  {
   "cell_type": "code",
   "execution_count": null,
   "id": "96465f27",
   "metadata": {},
   "outputs": [],
   "source": [
    "#Measure Kernel Alignment\n",
    "#\n",
    "#measure of how well your kernel separates classes\n",
    "#"
   ]
  },
  {
   "cell_type": "code",
   "execution_count": null,
   "id": "577fe52e",
   "metadata": {},
   "outputs": [],
   "source": [
    "#Cross-Validation with QSVC or Classical SVC\n",
    "#\n",
    "#\n",
    "#"
   ]
  },
  {
   "cell_type": "code",
   "execution_count": null,
   "id": "dab27262",
   "metadata": {},
   "outputs": [],
   "source": [
    "#Compare with Classical Kernels\n",
    "#\n",
    "#\n",
    "#"
   ]
  },
  {
   "cell_type": "code",
   "execution_count": null,
   "id": "6d33e051",
   "metadata": {},
   "outputs": [],
   "source": [
    "#Kernel Spectrum / Eigenvalues\n",
    "#\n",
    "#\n",
    "#"
   ]
  },
  {
   "cell_type": "code",
   "execution_count": null,
   "id": "b5391bfd",
   "metadata": {},
   "outputs": [],
   "source": [
    "#Sensitivity Analysis\n",
    "#\n",
    "#\n",
    "#"
   ]
  }
 ],
 "metadata": {
  "kernelspec": {
   "display_name": ".venv",
   "language": "python",
   "name": "python3"
  },
  "language_info": {
   "codemirror_mode": {
    "name": "ipython",
    "version": 3
   },
   "file_extension": ".py",
   "mimetype": "text/x-python",
   "name": "python",
   "nbconvert_exporter": "python",
   "pygments_lexer": "ipython3",
   "version": "3.13.3"
  }
 },
 "nbformat": 4,
 "nbformat_minor": 5
}
