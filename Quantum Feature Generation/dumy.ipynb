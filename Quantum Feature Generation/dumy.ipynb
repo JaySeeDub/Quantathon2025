{
 "cells": [
  {
   "cell_type": "code",
   "execution_count": 1,
   "id": "fa0f17c6",
   "metadata": {},
   "outputs": [],
   "source": [
    "from circuits import build_circuit\n",
    "import numpy as np\n",
    "import shadows as sh\n",
    "n=8\n",
    "x_raw = [np.random.rand(n) for _ in range(1)]\n",
    "\n",
    "circuits = [build_circuit(x, encoding_axes=(\"ry\",\"rz\"), entanglement=\"ring\", gate=\"cx\", num_layers=2)\n",
    "            for x in x_raw]\n",
    "\n",
    "paulis = sh.paulis_singles_xyz(n) + sh.paulis_ring_pairs(8, ('Z','Z'))\n",
    "\n",
    "cfg = sh.ShadowConfig(T = 200, shots = 1024, seed = 123)\n",
    "\n",
    "X_q = sh.build_feature_matrix_from_circuits(circuits, paulis, cfg)"
   ]
  },
  {
   "cell_type": "code",
   "execution_count": 2,
   "id": "8dc568fc",
   "metadata": {},
   "outputs": [
    {
     "data": {
      "text/plain": [
       "(1, 32)"
      ]
     },
     "execution_count": 2,
     "metadata": {},
     "output_type": "execute_result"
    }
   ],
   "source": [
    "X_q.shape"
   ]
  },
  {
   "cell_type": "code",
   "execution_count": 5,
   "id": "53d99ff5",
   "metadata": {},
   "outputs": [
    {
     "name": "stdout",
     "output_type": "stream",
     "text": [
      "[[4.20776758e+03 1.92094559e+02 2.94767029e+02 ... 2.25396030e+01\n",
      "  1.00000000e+00 0.00000000e+00]\n",
      " [8.79742737e+01 3.17011230e+02 2.90736450e+02 ... 6.82932849e+00\n",
      "  0.00000000e+00 0.00000000e+00]\n",
      " [0.00000000e+00            nan 2.87026489e+02 ... 9.16099523e+00\n",
      "  1.00000000e+00 0.00000000e+00]\n",
      " ...\n",
      " [1.10379858e+03 2.92553284e+02 2.93903564e+02 ... 6.75504142e+00\n",
      "  1.00000000e+00 0.00000000e+00]\n",
      " [4.26670504e+00            nan 2.69503784e+02 ... 3.50611166e+00\n",
      "  0.00000000e+00 0.00000000e+00]\n",
      " [0.00000000e+00            nan 2.75281006e+02 ... 2.18488429e+00\n",
      "  0.00000000e+00 0.00000000e+00]]\n"
     ]
    }
   ],
   "source": [
    "import pandas as pd\n",
    "\n",
    "df = pd.read_excel('../2025-Quantathon-Tornado-Q-training_data-640-examples.xlsx')\n",
    "\n",
    "data = df.to_numpy()\n",
    "\n",
    "print(data)"
   ]
  },
  {
   "cell_type": "code",
   "execution_count": null,
   "id": "3e7a6996",
   "metadata": {},
   "outputs": [],
   "source": []
  }
 ],
 "metadata": {
  "kernelspec": {
   "display_name": ".venv",
   "language": "python",
   "name": "python3"
  },
  "language_info": {
   "codemirror_mode": {
    "name": "ipython",
    "version": 3
   },
   "file_extension": ".py",
   "mimetype": "text/x-python",
   "name": "python",
   "nbconvert_exporter": "python",
   "pygments_lexer": "ipython3",
   "version": "3.13.3"
  }
 },
 "nbformat": 4,
 "nbformat_minor": 5
}
