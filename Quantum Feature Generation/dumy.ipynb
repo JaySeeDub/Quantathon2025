{
 "cells": [
  {
   "cell_type": "code",
   "execution_count": null,
   "id": "fa0f17c6",
   "metadata": {},
   "outputs": [
    {
     "data": {
      "text/plain": [
       "(8, 32)"
      ]
     },
     "execution_count": 3,
     "metadata": {},
     "output_type": "execute_result"
    }
   ],
   "source": [
    "from circuits import build_circuit\n",
    "import numpy as np\n",
    "import shadows as sh\n",
    "import pandas as pd\n",
    "\n",
    "df = pd.read_csv('../Data/X_test_scaled.csv')\n",
    "\n",
    "data = df.to_numpy()\n",
    "n=len(data[0])\n",
    "x_raw = [np.random.rand(n) for _ in range(n)]\n",
    "\n",
    "circuits = [build_circuit(x, encoding_axes=(\"ry\",\"rz\"), entanglement=\"ring\", gate=\"cx\", num_layers=2)\n",
    "            for x in x_raw]\n",
    "\n",
    "paulis = sh.paulis_singles_xyz(n) + sh.paulis_ring_pairs(n, ('X','Y'))\n",
    "\n",
    "cfg = sh.ShadowConfig(T = 200, shots = 1000, seed = 123)\n",
    "\n",
    "X_q = sh.build_feature_matrix_from_circuits(circuits, paulis, cfg)\n",
    "X_q.shape"
   ]
  },
  {
   "cell_type": "code",
   "execution_count": 2,
   "id": "8dc568fc",
   "metadata": {},
   "outputs": [],
   "source": [
    "from sklearn.preprocessing import MinMaxScaler\n",
    "\n",
    "scaler = MinMaxScaler(feature_range=(0,1))\n",
    "\n",
    "normalized_X_q = scaler.fit_transform(X_q)\n",
    "\n",
    "pd.DataFrame(normalized_X_q)\n",
    "df.to_csv(\"../Data/32_features.csv\")"
   ]
  },
  {
   "cell_type": "code",
   "execution_count": null,
   "id": "53d99ff5",
   "metadata": {},
   "outputs": [],
   "source": []
  },
  {
   "cell_type": "code",
   "execution_count": null,
   "id": "3e7a6996",
   "metadata": {},
   "outputs": [],
   "source": []
  }
 ],
 "metadata": {
  "kernelspec": {
   "display_name": ".venv",
   "language": "python",
   "name": "python3"
  },
  "language_info": {
   "codemirror_mode": {
    "name": "ipython",
    "version": 3
   },
   "file_extension": ".py",
   "mimetype": "text/x-python",
   "name": "python",
   "nbconvert_exporter": "python",
   "pygments_lexer": "ipython3",
   "version": "3.13.3"
  }
 },
 "nbformat": 4,
 "nbformat_minor": 5
}
