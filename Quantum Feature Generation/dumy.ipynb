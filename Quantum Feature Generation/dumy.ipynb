{
 "cells": [
  {
   "cell_type": "code",
   "execution_count": 1,
   "id": "fa0f17c6",
   "metadata": {},
   "outputs": [
    {
     "ename": "TypeError",
     "evalue": "'int' object is not iterable",
     "output_type": "error",
     "traceback": [
      "\u001b[31m---------------------------------------------------------------------------\u001b[39m",
      "\u001b[31mTypeError\u001b[39m                                 Traceback (most recent call last)",
      "\u001b[36mCell\u001b[39m\u001b[36m \u001b[39m\u001b[32mIn[1]\u001b[39m\u001b[32m, line 7\u001b[39m\n\u001b[32m      3\u001b[39m n=\u001b[32m8\u001b[39m\n\u001b[32m      5\u001b[39m data = np.random.rand(n)\n\u001b[32m----> \u001b[39m\u001b[32m7\u001b[39m qc = \u001b[43mgenerate_more_features\u001b[49m\u001b[43m(\u001b[49m\u001b[43mdata\u001b[49m\u001b[43m)\u001b[49m\n\u001b[32m      9\u001b[39m qc.draw(fold = -\u001b[32m1\u001b[39m)\n",
      "\u001b[36mFile \u001b[39m\u001b[32m~/Desktop/snrl/circuits.py:6\u001b[39m, in \u001b[36mgenerate_more_features\u001b[39m\u001b[34m(data)\u001b[39m\n\u001b[32m      4\u001b[39m \u001b[38;5;28;01mdef\u001b[39;00m\u001b[38;5;250m \u001b[39m\u001b[34mgenerate_more_features\u001b[39m(data):\n\u001b[32m      5\u001b[39m     qc = rxry_data_encoding(data)\n\u001b[32m----> \u001b[39m\u001b[32m6\u001b[39m     qc = \u001b[43madd_entangling_layer\u001b[49m\u001b[43m(\u001b[49m\u001b[43mqc\u001b[49m\u001b[43m)\u001b[49m\n\u001b[32m      7\u001b[39m     \u001b[38;5;28;01mreturn\u001b[39;00m qc\n",
      "\u001b[36mFile \u001b[39m\u001b[32m~/Desktop/snrl/circuits.py:75\u001b[39m, in \u001b[36madd_entangling_layer\u001b[39m\u001b[34m(qc, num_layers, entanglement, gate, alternate_directions, add_barriers)\u001b[39m\n\u001b[32m     73\u001b[39m         qc.barrier()    \n\u001b[32m     74\u001b[39m num_qubits = \u001b[38;5;28mrange\u001b[39m(qc.num_qubits)\n\u001b[32m---> \u001b[39m\u001b[32m75\u001b[39m \u001b[43m\u001b[49m\u001b[38;5;28;43;01mfor\u001b[39;49;00m\u001b[43m \u001b[49m\u001b[43mlayer\u001b[49m\u001b[43m \u001b[49m\u001b[38;5;129;43;01min\u001b[39;49;00m\u001b[43m \u001b[49m\u001b[43mnum_layers\u001b[49m\u001b[43m:\u001b[49m\n\u001b[32m     76\u001b[39m \u001b[43m    \u001b[49m\u001b[38;5;28;43;01mif\u001b[39;49;00m\u001b[43m \u001b[49m\u001b[43mentanglement\u001b[49m\u001b[43m==\u001b[49m\u001b[33;43m'\u001b[39;49m\u001b[33;43mfull\u001b[39;49m\u001b[33;43m'\u001b[39;49m\u001b[43m:\u001b[49m\n\u001b[32m     77\u001b[39m \u001b[43m        \u001b[49m\u001b[38;5;28;43;01mfor\u001b[39;49;00m\u001b[43m \u001b[49m\u001b[43mi\u001b[49m\u001b[43m \u001b[49m\u001b[38;5;129;43;01min\u001b[39;49;00m\u001b[43m \u001b[49m\u001b[38;5;28;43mrange\u001b[39;49m\u001b[43m(\u001b[49m\u001b[43mnum_qubits\u001b[49m\u001b[43m)\u001b[49m\u001b[43m:\u001b[49m\n",
      "\u001b[31mTypeError\u001b[39m: 'int' object is not iterable"
     ]
    }
   ],
   "source": [
    "from circuits import generate_more_features\n",
    "import numpy as np\n",
    "n=8\n",
    "\n",
    "data = np.random.rand(n)\n",
    "\n",
    "qc = generate_more_features(data)\n",
    "\n",
    "qc.draw(fold = -1)"
   ]
  }
 ],
 "metadata": {
  "kernelspec": {
   "display_name": ".venv",
   "language": "python",
   "name": "python3"
  },
  "language_info": {
   "codemirror_mode": {
    "name": "ipython",
    "version": 3
   },
   "file_extension": ".py",
   "mimetype": "text/x-python",
   "name": "python",
   "nbconvert_exporter": "python",
   "pygments_lexer": "ipython3",
   "version": "3.13.3"
  }
 },
 "nbformat": 4,
 "nbformat_minor": 5
}
