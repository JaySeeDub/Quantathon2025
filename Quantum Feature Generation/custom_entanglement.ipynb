{
 "cells": [
  {
   "cell_type": "code",
   "execution_count": null,
   "id": "aeb9d1b6",
   "metadata": {},
   "outputs": [],
   "source": [
    "import pandas as pd\n",
    "import numpy as np\n",
    "from qiskit import QuantumCircuit\n",
    "def apply_angle_encoding(\n",
    "    qc: QuantumCircuit,\n",
    "    thetas: np.ndarray,\n",
    "    axes: Sequence[str],\n",
    ") -> None:\n",
    "    \"\"\"\n",
    "    Apply angle encoding per feature/qubit.\n",
    "\n",
    "    Each feature angle θ_i is applied using the sequence of rotations\n",
    "    specified in `axes` (e.g., (\"ry\",\"rz\") applies RY(θ_i) then RZ(θ_i)).\n",
    "    \"\"\"\n",
    "    valid = {\"rx\", \"ry\", \"rz\"}\n",
    "    axes = tuple(ax.lower() for ax in axes)\n",
    "    if not axes:\n",
    "        raise ValueError(\"encoding_axes must contain at least one of {'rx','ry','rz'}.\")\n",
    "    if any(ax not in valid for ax in axes):\n",
    "        raise ValueError(f\"encoding_axes must be in {valid}, got {axes}.\")\n",
    "\n",
    "    for q, theta in enumerate(thetas):\n",
    "        for ax in axes:\n",
    "            if ax == \"rx\":\n",
    "                qc.rx(theta, q)\n",
    "            elif ax == \"ry\":\n",
    "                qc.ry(theta, q)\n",
    "            elif ax == \"rz\":\n",
    "                qc.rz(theta, q)\n",
    "\n",
    "data = pd.read_csv('../Data/X_train_scaled.csv')"
   ]
  }
 ],
 "metadata": {
  "language_info": {
   "name": "python"
  }
 },
 "nbformat": 4,
 "nbformat_minor": 5
}
