{
 "cells": [
  {
   "cell_type": "code",
   "execution_count": 1,
   "id": "fa0f17c6",
   "metadata": {},
   "outputs": [],
   "source": [
    "from circuits import build_circuit\n",
    "import numpy as np\n",
    "import shadows as sh\n",
    "import pandas as pd\n",
    "\n",
    "def normalize_new_features(unnormalized_features):\n",
    "    from sklearn.preprocessing import MinMaxScaler\n",
    "\n",
    "    scaler = MinMaxScaler(feature_range=(0,1))\n",
    "\n",
    "    normalized_features = scaler.fit_transform(unnormalized_features)\n",
    "    return normalized_features\n",
    "    \n",
    "\n",
    "def run_pipeline(filename = None, ring_paulis = 'XY', entanglement = 'ring', num_layers = 1, encoding_axis = (\"rx\",\"ry\"), train_test = 'train'):\n",
    "    \n",
    "    ring_paulis = ring_paulis.upper()\n",
    "    df = pd.read_csv(f'../Data/{filename}')\n",
    "    df = df.drop(df.columns[-1], axis = 1)\n",
    "\n",
    "\n",
    "    data = df.to_numpy()\n",
    "    n = len(data[0])\n",
    "\n",
    "\n",
    "    circuits = [build_circuit(x, encoding_axes=encoding_axis, entanglement=entanglement, gate=\"cx\", num_layers=num_layers)\n",
    "                for x in data]\n",
    "\n",
    "    paulis = sh.paulis_singles_xyz(n) + sh.paulis_ring_pairs(n, (ring_paulis[0], ring_paulis[1]))\n",
    "\n",
    "    cfg = sh.ShadowConfig(T = 200, shots = 1000, seed = 123)\n",
    "\n",
    "    new_features = sh.build_feature_matrix_from_circuits(circuits, paulis, cfg)\n",
    "    \n",
    "    normalized_features = normalize_new_features(new_features)\n",
    "    \n",
    "    df = pd.DataFrame(normalized_features)\n",
    "    df.to_csv(f\"../Data/{normalized_features.shape[1]}_features{ring_paulis[0]}{ring_paulis[1]}_{train_test}_QuantumLayers1.csv\", index = False)\n"
   ]
  },
  {
   "cell_type": "code",
   "execution_count": 2,
   "id": "8dc568fc",
   "metadata": {},
   "outputs": [
    {
     "ename": "KeyboardInterrupt",
     "evalue": "",
     "output_type": "error",
     "traceback": [
      "\u001b[31m---------------------------------------------------------------------------\u001b[39m",
      "\u001b[31mKeyboardInterrupt\u001b[39m                         Traceback (most recent call last)",
      "\u001b[36mCell\u001b[39m\u001b[36m \u001b[39m\u001b[32mIn[2]\u001b[39m\u001b[32m, line 1\u001b[39m\n\u001b[32m----> \u001b[39m\u001b[32m1\u001b[39m \u001b[43mrun_pipeline\u001b[49m\u001b[43m(\u001b[49m\u001b[43mfilename\u001b[49m\u001b[43m \u001b[49m\u001b[43m=\u001b[49m\u001b[43m \u001b[49m\u001b[33;43m'\u001b[39;49m\u001b[33;43m../Data/X_train_scaled.csv\u001b[39;49m\u001b[33;43m'\u001b[39;49m\u001b[43m,\u001b[49m\u001b[43m \u001b[49m\u001b[43mentanglement\u001b[49m\u001b[43m \u001b[49m\u001b[43m=\u001b[49m\u001b[43m \u001b[49m\u001b[33;43m'\u001b[39;49m\u001b[33;43mfull\u001b[39;49m\u001b[33;43m'\u001b[39;49m\u001b[43m,\u001b[49m\u001b[43m \u001b[49m\u001b[43mtrain_test\u001b[49m\u001b[43m \u001b[49m\u001b[43m=\u001b[49m\u001b[43m \u001b[49m\u001b[33;43m'\u001b[39;49m\u001b[33;43mtrain\u001b[39;49m\u001b[33;43m'\u001b[39;49m\u001b[43m,\u001b[49m\u001b[43m \u001b[49m\u001b[43mnum_layers\u001b[49m\u001b[43m \u001b[49m\u001b[43m=\u001b[49m\u001b[43m \u001b[49m\u001b[32;43m1\u001b[39;49m\u001b[43m)\u001b[49m,\n\u001b[32m      2\u001b[39m run_pipeline(filename = \u001b[33m'\u001b[39m\u001b[33m../Data/X_test_scaled.csv\u001b[39m\u001b[33m'\u001b[39m, entanglement = \u001b[33m'\u001b[39m\u001b[33mfull\u001b[39m\u001b[33m'\u001b[39m, train_test = \u001b[33m'\u001b[39m\u001b[33mtest\u001b[39m\u001b[33m'\u001b[39m, num_layers = \u001b[32m1\u001b[39m)\n\u001b[32m      3\u001b[39m run_pipeline(filename = \u001b[33m'\u001b[39m\u001b[33m../Data/X_val_scaled.csv\u001b[39m\u001b[33m'\u001b[39m, entanglement = \u001b[33m'\u001b[39m\u001b[33mfull\u001b[39m\u001b[33m'\u001b[39m, train_test = \u001b[33m'\u001b[39m\u001b[33mval\u001b[39m\u001b[33m'\u001b[39m, num_layers = \u001b[32m1\u001b[39m)\n",
      "\u001b[36mCell\u001b[39m\u001b[36m \u001b[39m\u001b[32mIn[1]\u001b[39m\u001b[32m, line 33\u001b[39m, in \u001b[36mrun_pipeline\u001b[39m\u001b[34m(filename, ring_paulis, entanglement, num_layers, encoding_axis, train_test)\u001b[39m\n\u001b[32m     29\u001b[39m paulis = sh.paulis_singles_xyz(n) + sh.paulis_ring_pairs(n, (ring_paulis[\u001b[32m0\u001b[39m], ring_paulis[\u001b[32m1\u001b[39m]))\n\u001b[32m     31\u001b[39m cfg = sh.ShadowConfig(T = \u001b[32m200\u001b[39m, shots = \u001b[32m1000\u001b[39m, seed = \u001b[32m123\u001b[39m)\n\u001b[32m---> \u001b[39m\u001b[32m33\u001b[39m new_features = \u001b[43msh\u001b[49m\u001b[43m.\u001b[49m\u001b[43mbuild_feature_matrix_from_circuits\u001b[49m\u001b[43m(\u001b[49m\u001b[43mcircuits\u001b[49m\u001b[43m,\u001b[49m\u001b[43m \u001b[49m\u001b[43mpaulis\u001b[49m\u001b[43m,\u001b[49m\u001b[43m \u001b[49m\u001b[43mcfg\u001b[49m\u001b[43m)\u001b[49m\n\u001b[32m     35\u001b[39m normalized_features = normalize_new_features(new_features)\n\u001b[32m     37\u001b[39m df = pd.DataFrame(normalized_features)\n",
      "\u001b[36mFile \u001b[39m\u001b[32m~/Desktop/snrl/Quantathon2025/Quantum Feature Generation/shadows.py:235\u001b[39m, in \u001b[36mbuild_feature_matrix_from_circuits\u001b[39m\u001b[34m(circuits, pauli_list, cfg)\u001b[39m\n\u001b[32m    233\u001b[39m X = np.zeros((N, F), dtype=\u001b[38;5;28mfloat\u001b[39m)\n\u001b[32m    234\u001b[39m \u001b[38;5;28;01mfor\u001b[39;00m k, circ \u001b[38;5;129;01min\u001b[39;00m \u001b[38;5;28menumerate\u001b[39m(circuits):\n\u001b[32m--> \u001b[39m\u001b[32m235\u001b[39m     bases, outs = \u001b[43mcollect_shadows\u001b[49m\u001b[43m(\u001b[49m\u001b[43mcirc\u001b[49m\u001b[43m,\u001b[49m\u001b[43m \u001b[49m\u001b[43mcfg\u001b[49m\u001b[43m)\u001b[49m\n\u001b[32m    236\u001b[39m     feats = estimate_pauli_expectations(bases, outs, pauli_list)\n\u001b[32m    237\u001b[39m     X[k, :] = [feats[P] \u001b[38;5;28;01mfor\u001b[39;00m P \u001b[38;5;129;01min\u001b[39;00m pauli_list]\n",
      "\u001b[36mFile \u001b[39m\u001b[32m~/Desktop/snrl/Quantathon2025/Quantum Feature Generation/shadows.py:94\u001b[39m, in \u001b[36mcollect_shadows\u001b[39m\u001b[34m(stateprep, cfg)\u001b[39m\n\u001b[32m     92\u001b[39m \u001b[38;5;66;03m# Execute batched\u001b[39;00m\n\u001b[32m     93\u001b[39m job = backend.run(circuits, shots=cfg.shots)\n\u001b[32m---> \u001b[39m\u001b[32m94\u001b[39m result = \u001b[43mjob\u001b[49m\u001b[43m.\u001b[49m\u001b[43mresult\u001b[49m\u001b[43m(\u001b[49m\u001b[43m)\u001b[49m\n\u001b[32m     96\u001b[39m outcomes: List[np.ndarray] = []\n\u001b[32m     97\u001b[39m \u001b[38;5;28;01mfor\u001b[39;00m t \u001b[38;5;129;01min\u001b[39;00m \u001b[38;5;28mrange\u001b[39m(cfg.T):\n",
      "\u001b[36mFile \u001b[39m\u001b[32m~/Desktop/snrl/.venv/lib/python3.13/site-packages/qiskit_aer/jobs/utils.py:38\u001b[39m, in \u001b[36mrequires_submit.<locals>._wrapper\u001b[39m\u001b[34m(self, *args, **kwargs)\u001b[39m\n\u001b[32m     36\u001b[39m \u001b[38;5;28;01mif\u001b[39;00m \u001b[38;5;28mself\u001b[39m._future \u001b[38;5;129;01mis\u001b[39;00m \u001b[38;5;28;01mNone\u001b[39;00m:\n\u001b[32m     37\u001b[39m     \u001b[38;5;28;01mraise\u001b[39;00m JobError(\u001b[33m\"\u001b[39m\u001b[33mJob not submitted yet!. You have to .submit() first!\u001b[39m\u001b[33m\"\u001b[39m)\n\u001b[32m---> \u001b[39m\u001b[32m38\u001b[39m \u001b[38;5;28;01mreturn\u001b[39;00m \u001b[43mfunc\u001b[49m\u001b[43m(\u001b[49m\u001b[38;5;28;43mself\u001b[39;49m\u001b[43m,\u001b[49m\u001b[43m \u001b[49m\u001b[43m*\u001b[49m\u001b[43margs\u001b[49m\u001b[43m,\u001b[49m\u001b[43m \u001b[49m\u001b[43m*\u001b[49m\u001b[43m*\u001b[49m\u001b[43mkwargs\u001b[49m\u001b[43m)\u001b[49m\n",
      "\u001b[36mFile \u001b[39m\u001b[32m~/Desktop/snrl/.venv/lib/python3.13/site-packages/qiskit_aer/jobs/aerjob.py:96\u001b[39m, in \u001b[36mAerJob.result\u001b[39m\u001b[34m(self, timeout)\u001b[39m\n\u001b[32m     78\u001b[39m \u001b[38;5;129m@requires_submit\u001b[39m\n\u001b[32m     79\u001b[39m \u001b[38;5;28;01mdef\u001b[39;00m\u001b[38;5;250m \u001b[39m\u001b[34mresult\u001b[39m(\u001b[38;5;28mself\u001b[39m, timeout=\u001b[38;5;28;01mNone\u001b[39;00m):\n\u001b[32m     80\u001b[39m     \u001b[38;5;66;03m# pylint: disable=arguments-differ\u001b[39;00m\n\u001b[32m     81\u001b[39m \u001b[38;5;250m    \u001b[39m\u001b[33;03m\"\"\"Get job result. The behavior is the same as the underlying\u001b[39;00m\n\u001b[32m     82\u001b[39m \u001b[33;03m    concurrent Future objects,\u001b[39;00m\n\u001b[32m     83\u001b[39m \n\u001b[32m   (...)\u001b[39m\u001b[32m     94\u001b[39m \u001b[33;03m        concurrent.futures.CancelledError: if job cancelled before completed.\u001b[39;00m\n\u001b[32m     95\u001b[39m \u001b[33;03m    \"\"\"\u001b[39;00m\n\u001b[32m---> \u001b[39m\u001b[32m96\u001b[39m     \u001b[38;5;28;01mreturn\u001b[39;00m \u001b[38;5;28;43mself\u001b[39;49m\u001b[43m.\u001b[49m\u001b[43m_future\u001b[49m\u001b[43m.\u001b[49m\u001b[43mresult\u001b[49m\u001b[43m(\u001b[49m\u001b[43mtimeout\u001b[49m\u001b[43m=\u001b[49m\u001b[43mtimeout\u001b[49m\u001b[43m)\u001b[49m\n",
      "\u001b[36mFile \u001b[39m\u001b[32m/usr/lib/python3.13/concurrent/futures/_base.py:451\u001b[39m, in \u001b[36mFuture.result\u001b[39m\u001b[34m(self, timeout)\u001b[39m\n\u001b[32m    448\u001b[39m \u001b[38;5;28;01melif\u001b[39;00m \u001b[38;5;28mself\u001b[39m._state == FINISHED:\n\u001b[32m    449\u001b[39m     \u001b[38;5;28;01mreturn\u001b[39;00m \u001b[38;5;28mself\u001b[39m.__get_result()\n\u001b[32m--> \u001b[39m\u001b[32m451\u001b[39m \u001b[38;5;28;43mself\u001b[39;49m\u001b[43m.\u001b[49m\u001b[43m_condition\u001b[49m\u001b[43m.\u001b[49m\u001b[43mwait\u001b[49m\u001b[43m(\u001b[49m\u001b[43mtimeout\u001b[49m\u001b[43m)\u001b[49m\n\u001b[32m    453\u001b[39m \u001b[38;5;28;01mif\u001b[39;00m \u001b[38;5;28mself\u001b[39m._state \u001b[38;5;129;01min\u001b[39;00m [CANCELLED, CANCELLED_AND_NOTIFIED]:\n\u001b[32m    454\u001b[39m     \u001b[38;5;28;01mraise\u001b[39;00m CancelledError()\n",
      "\u001b[36mFile \u001b[39m\u001b[32m/usr/lib/python3.13/threading.py:359\u001b[39m, in \u001b[36mCondition.wait\u001b[39m\u001b[34m(self, timeout)\u001b[39m\n\u001b[32m    357\u001b[39m \u001b[38;5;28;01mtry\u001b[39;00m:    \u001b[38;5;66;03m# restore state no matter what (e.g., KeyboardInterrupt)\u001b[39;00m\n\u001b[32m    358\u001b[39m     \u001b[38;5;28;01mif\u001b[39;00m timeout \u001b[38;5;129;01mis\u001b[39;00m \u001b[38;5;28;01mNone\u001b[39;00m:\n\u001b[32m--> \u001b[39m\u001b[32m359\u001b[39m         \u001b[43mwaiter\u001b[49m\u001b[43m.\u001b[49m\u001b[43macquire\u001b[49m\u001b[43m(\u001b[49m\u001b[43m)\u001b[49m\n\u001b[32m    360\u001b[39m         gotit = \u001b[38;5;28;01mTrue\u001b[39;00m\n\u001b[32m    361\u001b[39m     \u001b[38;5;28;01melse\u001b[39;00m:\n",
      "\u001b[31mKeyboardInterrupt\u001b[39m: "
     ]
    }
   ],
   "source": [
    "run_pipeline(filename = '../Data/X_train_scaled.csv', entanglement = 'full', train_test = 'train', num_layers = 1),\n",
    "run_pipeline(filename = '../Data/X_test_scaled.csv', entanglement = 'full', train_test = 'test', num_layers = 1)\n",
    "run_pipeline(filename = '../Data/X_val_scaled.csv', entanglement = 'full', train_test = 'val', num_layers = 1)"
   ]
  },
  {
   "cell_type": "code",
   "execution_count": null,
   "id": "53d99ff5",
   "metadata": {},
   "outputs": [],
   "source": []
  },
  {
   "cell_type": "code",
   "execution_count": null,
   "id": "3e7a6996",
   "metadata": {},
   "outputs": [],
   "source": []
  }
 ],
 "metadata": {
  "kernelspec": {
   "display_name": ".venv",
   "language": "python",
   "name": "python3"
  },
  "language_info": {
   "codemirror_mode": {
    "name": "ipython",
    "version": 3
   },
   "file_extension": ".py",
   "mimetype": "text/x-python",
   "name": "python",
   "nbconvert_exporter": "python",
   "pygments_lexer": "ipython3",
   "version": "3.13.3"
  }
 },
 "nbformat": 4,
 "nbformat_minor": 5
}
