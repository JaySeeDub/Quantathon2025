{
 "cells": [
  {
   "cell_type": "code",
   "execution_count": 1,
   "id": "fa0f17c6",
   "metadata": {},
   "outputs": [],
   "source": [
    "from circuits import build_circuit\n",
    "import numpy as np\n",
    "import shadows as sh\n",
    "import pandas as pd\n",
    "\n",
    "def normalize_new_features(unnormalized_features):\n",
    "    from sklearn.preprocessing import MinMaxScaler\n",
    "\n",
    "    scaler = MinMaxScaler(feature_range=(0,1))\n",
    "\n",
    "    normalized_features = scaler.fit_transform(unnormalized_features)\n",
    "    return normalized_features\n",
    "    \n",
    "\n",
    "def run_pipeline(filename = None, ring_paulis = 'XY', entanglement = 'ring', num_layers = 1, encoding_axis = (\"rx\",\"ry\"), train_test = 'train', device = 'GPU'):\n",
    "    \n",
    "    ring_paulis = ring_paulis.upper()\n",
    "    df = pd.read_csv(f'../Data/{filename}')\n",
    "    df = df.drop(df.columns[-1], axis = 1)\n",
    "\n",
    "\n",
    "    data = df.to_numpy()\n",
    "    n = len(data[0])\n",
    "\n",
    "\n",
    "    circuits = [build_circuit(x, encoding_axes=encoding_axis, entanglement=entanglement, gate=\"cx\", num_layers=num_layers)\n",
    "                for x in data]\n",
    "\n",
    "    paulis = sh.paulis_singles_xyz(n) + sh.paulis_ring_pairs(n, (ring_paulis[0], ring_paulis[1]))\n",
    "\n",
    "    cfg = sh.ShadowConfig(T = 200, shots = 1000, seed = 123)\n",
    "\n",
    "    new_features = sh.build_feature_matrix_from_circuits(circuits, paulis, cfg, device = device)\n",
    "    \n",
    "    normalized_features = normalize_new_features(new_features)\n",
    "    \n",
    "    df = pd.DataFrame(normalized_features)\n",
    "    df.to_csv(f\"../Data/{normalized_features.shape[1]}_features{ring_paulis[0]}{ring_paulis[1]}_{train_test}_QuantumLayers1.csv\", index = False)\n"
   ]
  },
  {
   "cell_type": "code",
   "execution_count": null,
   "id": "8dc568fc",
   "metadata": {},
   "outputs": [],
   "source": [
    "run_pipeline(filename = '../Data/X_train_scaled.csv', entanglement = 'full', train_test = 'train', num_layers = 1, device = 'CPU'),\n",
    "run_pipeline(filename = '../Data/X_test_scaled.csv', entanglement = 'full', train_test = 'test', num_layers = 1, device = 'CPU')\n",
    "run_pipeline(filename = '../Data/X_val_scaled.csv', entanglement = 'full', train_test = 'val', num_layers = 1, device = 'CPU')"
   ]
  }
 ],
 "metadata": {
  "kernelspec": {
   "display_name": ".venv",
   "language": "python",
   "name": "python3"
  },
  "language_info": {
   "codemirror_mode": {
    "name": "ipython",
    "version": 3
   },
   "file_extension": ".py",
   "mimetype": "text/x-python",
   "name": "python",
   "nbconvert_exporter": "python",
   "pygments_lexer": "ipython3",
   "version": "3.10.14"
  }
 },
 "nbformat": 4,
 "nbformat_minor": 5
}
