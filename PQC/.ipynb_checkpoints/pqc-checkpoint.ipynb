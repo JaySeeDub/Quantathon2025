{
 "cells": [
  {
   "cell_type": "code",
   "execution_count": 1,
   "id": "6aec56e3",
   "metadata": {},
   "outputs": [],
   "source": [
    "# QNN: trainable PQC whose entanglement strengths are parameters\n",
    "import numpy as np\n",
    "from itertools import combinations\n",
    "from qiskit import QuantumCircuit\n",
    "from qiskit.circuit import Parameter, ParameterVector\n",
    "from qiskit.circuit.library import RZZGate\n",
    "\n",
    "def covariance_to_corr(C: np.ndarray) -> np.ndarray:\n",
    "    d = np.sqrt(np.diag(C))\n",
    "    R = C / np.outer(d, d)\n",
    "    np.fill_diagonal(R, 0.0)\n",
    "    return np.clip(R, -1.0, 1.0)\n",
    "\n",
    "def sparsify_corr(R: np.ndarray, threshold: float = 0.2):\n",
    "    # keep only sufficiently strong |corr|\n",
    "    mask = np.abs(R) >= threshold\n",
    "    np.fill_diagonal(mask, False)\n",
    "    return R * mask\n",
    "\n",
    "def edge_list_from_matrix(W: np.ndarray):\n",
    "    n = W.shape[0]\n",
    "    return [(i, j, W[i, j]) for i, j in combinations(range(n), 2) if W[i, j] != 0.0]\n",
    "\n",
    "def build_trainable_qnn(C: np.ndarray, layers: int = 2, edge_threshold: float = 0.2):\n",
    "    \"\"\"\n",
    "    Returns:\n",
    "      qc: QuantumCircuit with 8 qubits (for your 8 features)\n",
    "      params_single: ParameterVector of size (layers, n, 2) for per-qubit RZ/RX\n",
    "      params_edges:  dict mapping (ell, i, j) -> Parameter for edge entanglers\n",
    "      edges:         list of (i, j, w_ij) used\n",
    "    \"\"\"\n",
    "    n = C.shape[0]\n",
    "    R = covariance_to_corr(C)\n",
    "    W = sparsify_corr(R, threshold=edge_threshold)\n",
    "    edges = edge_list_from_matrix(W)\n",
    "\n",
    "    qc = QuantumCircuit(n, name=\"CovGraphQNN\")\n",
    "\n",
    "    # per-layer, per-qubit data-agnostic trainable single-qubit rotations\n",
    "    # (you can swap to data-encoding later if desired)\n",
    "    params_single = []\n",
    "    for ell in range(layers):\n",
    "        params_single.append(ParameterVector(f\"θ_single_l{ell}\", length=2*n))  # [RZ_i, RX_i] per qubit\n",
    "\n",
    "    # edge parameters per layer (edge-wise control of entanglement)\n",
    "    params_edges = {}\n",
    "    for ell in range(layers):\n",
    "        for (i, j, _) in edges:\n",
    "            params_edges[(ell, i, j)] = Parameter(f\"θ_edge_l{ell}_{i}_{j}\")\n",
    "\n",
    "    # build the layered ansatz\n",
    "    for ell in range(layers):\n",
    "        # single-qubit part\n",
    "        pv = params_single[ell]\n",
    "        for q in range(n):\n",
    "            qc.rz(pv[2*q + 0], q)\n",
    "            qc.rx(pv[2*q + 1], q)\n",
    "\n",
    "        # entanglers respecting correlation signs and magnitudes\n",
    "        for (i, j, w) in edges:\n",
    "            # RZZ has angle convention exp(-i θ/2 Z⊗Z); scale by corr weight\n",
    "            qc.append(RZZGate(params_edges[(ell, i, j)] * w), [i, j])\n",
    "\n",
    "    # Example readout: expectation of Z on qubit 0 (decide your observable later)\n",
    "    return qc, params_single, params_edges, edges\n"
   ]
  },
  {
   "cell_type": "code",
   "execution_count": 9,
   "id": "5ceb10c1",
   "metadata": {},
   "outputs": [
    {
     "name": "stdout",
     "output_type": "stream",
     "text": [
      "[[ 1.          0.23197998  0.48005025  0.40660295  0.40707986 -0.02693128\n",
      "   0.00330252  0.02153733]\n",
      " [ 0.23197998  1.          0.06188369  0.27303917 -0.0798308  -0.14385296\n",
      "  -0.12311749 -0.06583452]\n",
      " [ 0.48005025  0.06188369  1.          0.48092854  0.81254993  0.39917212\n",
      "   0.16964385  0.11054101]\n",
      " [ 0.40660295  0.27303917  0.48092854  1.          0.32389118 -0.13590949\n",
      "  -0.29110201 -0.0327442 ]\n",
      " [ 0.40707986 -0.0798308   0.81254993  0.32389118  1.          0.36294666\n",
      "   0.24222478  0.19197306]\n",
      " [-0.02693128 -0.14385296  0.39917212 -0.13590949  0.36294666  1.\n",
      "   0.50326391  0.10169175]\n",
      " [ 0.00330252 -0.12311749  0.16964385 -0.29110201  0.24222478  0.50326391\n",
      "   1.          0.44382656]\n",
      " [ 0.02153733 -0.06583452  0.11054101 -0.0327442   0.19197306  0.10169175\n",
      "   0.44382656  1.        ]]\n"
     ]
    }
   ],
   "source": [
    "import pandas as pd\n",
    "df = pd.read_csv('../Data/correlation_matrix.csv')\n",
    "df = df.drop(df.columns[0], axis=1)\n",
    "data = df.to_numpy()\n",
    "\n",
    "print(data)"
   ]
  },
  {
   "cell_type": "code",
   "execution_count": null,
   "id": "ed45a517",
   "metadata": {},
   "outputs": [],
   "source": []
  }
 ],
 "metadata": {
  "kernelspec": {
   "display_name": ".venv",
   "language": "python",
   "name": "python3"
  },
  "language_info": {
   "codemirror_mode": {
    "name": "ipython",
    "version": 3
   },
   "file_extension": ".py",
   "mimetype": "text/x-python",
   "name": "python",
   "nbconvert_exporter": "python",
   "pygments_lexer": "ipython3",
   "version": "3.13.3"
  }
 },
 "nbformat": 4,
 "nbformat_minor": 5
}
